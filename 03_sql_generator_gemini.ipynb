{
 "cells": [
  {
   "cell_type": "markdown",
   "id": "7e3163b6",
   "metadata": {},
   "source": [
    "# Query Data with LLM using Google Gemini \n",
    "\n",
    "In this section, we will review different ways to query data with LLMs using the [Gemini API](https://ai.google.dev/gemini-api/docs). We will start with basic prompt methods to generate SQL queries and then move on to more advanced prompt techniques. We than fully functionalize the process and build the following three components:\n",
    "\n",
    "- **Create Prompt**: This function takes a user question and returns a prompt\n",
    "- **API handler**: This function sends prompts to the API, returns the response, and parse it to SQL query\n",
    "- **DB handler**: This function takes the query and returns a dataframe \n",
    "\n",
    "\n",
    "<figure>\n",
    " <img src=\"images/architecture.png\" width=\"100%\" align=\"center\"/></a>\n",
    "<figcaption> The agent architecture </figcaption>\n",
    "</figure>\n",
    "\n",
    "<br>\n",
    "<br />\n",
    "\n",
    "To demonstrate the process, we will use the Chicago Crime dataset we pulled earlier from the API and load it into a Pandas dataframe. We will also use the `duckdb` library to query the data using SQL queries.\n",
    "\n",
    "<figure>\n",
    " <img src=\"images/chicago_crime.png\" width=\"100%\" align=\"center\"/></a>\n",
    "<figcaption> The Chicago Crime dataset </figcaption>\n",
    "</figure>\n",
    "\n",
    "<br>\n",
    "<br />"
   ]
  },
  {
   "cell_type": "code",
   "execution_count": 161,
   "id": "0213fe24",
   "metadata": {},
   "outputs": [],
   "source": [
    "import pandas as pd\n",
    "import duckdb \n",
    "import os\n",
    "from google import genai\n",
    "from google.genai import types"
   ]
  },
  {
   "cell_type": "code",
   "execution_count": 162,
   "id": "8a01287f",
   "metadata": {},
   "outputs": [],
   "source": [
    "chicago_crime = pd.read_csv(\"./data/chicago_crime_2023_2025.csv\")\n",
    "chicago_crime[\"updated_on\"] = pd.to_datetime(chicago_crime[\"updated_on\"])\n",
    "chicago_crime[\"x_coordinate\"] = chicago_crime[\"x_coordinate\"].astype(float)\n",
    "chicago_crime[\"y_coordinate\"] = chicago_crime[\"y_coordinate\"].astype(float)\n",
    "chicago_crime[\"latitude\"] = chicago_crime[\"latitude\"].astype(float)\n",
    "chicago_crime[\"longitude\"] = chicago_crime[\"longitude\"].astype(float)\n",
    "chicago_crime[\"year\"]= chicago_crime[\"year\"].astype(int)"
   ]
  },
  {
   "cell_type": "code",
   "execution_count": 163,
   "id": "6702578b",
   "metadata": {},
   "outputs": [
    {
     "data": {
      "application/vnd.microsoft.datawrangler.viewer.v0+json": {
       "columns": [
        {
         "name": "index",
         "rawType": "int64",
         "type": "integer"
        },
        {
         "name": "id",
         "rawType": "int64",
         "type": "integer"
        },
        {
         "name": "case_number",
         "rawType": "object",
         "type": "string"
        },
        {
         "name": "datetime",
         "rawType": "object",
         "type": "string"
        },
        {
         "name": "block",
         "rawType": "object",
         "type": "string"
        },
        {
         "name": "iucr",
         "rawType": "object",
         "type": "string"
        },
        {
         "name": "primary_type",
         "rawType": "object",
         "type": "string"
        },
        {
         "name": "description",
         "rawType": "object",
         "type": "string"
        },
        {
         "name": "location_description",
         "rawType": "object",
         "type": "string"
        },
        {
         "name": "arrest",
         "rawType": "bool",
         "type": "boolean"
        },
        {
         "name": "domestic",
         "rawType": "bool",
         "type": "boolean"
        },
        {
         "name": "beat",
         "rawType": "int64",
         "type": "integer"
        },
        {
         "name": "district",
         "rawType": "int64",
         "type": "integer"
        },
        {
         "name": "ward",
         "rawType": "float64",
         "type": "float"
        },
        {
         "name": "community_area",
         "rawType": "float64",
         "type": "float"
        },
        {
         "name": "fbi_code",
         "rawType": "object",
         "type": "string"
        },
        {
         "name": "x_coordinate",
         "rawType": "float64",
         "type": "float"
        },
        {
         "name": "y_coordinate",
         "rawType": "float64",
         "type": "float"
        },
        {
         "name": "year",
         "rawType": "int64",
         "type": "integer"
        },
        {
         "name": "updated_on",
         "rawType": "datetime64[ns]",
         "type": "datetime"
        },
        {
         "name": "latitude",
         "rawType": "float64",
         "type": "float"
        },
        {
         "name": "longitude",
         "rawType": "float64",
         "type": "float"
        }
       ],
       "conversionMethod": "pd.DataFrame",
       "ref": "205d3df0-e5b3-44ff-9515-ed287f7c7a11",
       "rows": [
        [
         "0",
         "13140855",
         "JG341458",
         "2023-01-01 00:00:00",
         "082XX S JEFFERY BLVD",
         "1754",
         "OFFENSE INVOLVING CHILDREN",
         "AGGRAVATED SEXUAL ASSAULT OF CHILD BY FAMILY MEMBER",
         "APARTMENT",
         "False",
         "True",
         "414",
         "4",
         "8.0",
         "46.0",
         "02",
         "1190953.0",
         "1850848.0",
         "2023",
         "2023-09-24 15:41:26",
         "41.745738706",
         "-87.57588269"
        ],
        [
         "1",
         "13180096",
         "JG387858",
         "2023-01-01 00:00:00",
         "075XX S WOLCOTT AVE",
         "1153",
         "DECEPTIVE PRACTICE",
         "FINANCIAL IDENTITY THEFT OVER $ 300",
         "RESIDENCE",
         "False",
         "False",
         "611",
         "6",
         "17.0",
         "71.0",
         "11",
         "1164996.0",
         "1854651.0",
         "2023",
         "2023-08-20 15:40:56",
         "41.756762329",
         "-87.670886691"
        ],
        [
         "2",
         "13168471",
         "JG374193",
         "2023-01-01 00:00:00",
         "013XX W HARRISON ST",
         "0460",
         "BATTERY",
         "SIMPLE",
         "SCHOOL - PUBLIC GROUNDS",
         "False",
         "False",
         "1231",
         "12",
         "34.0",
         "28.0",
         "08B",
         "1167465.0",
         "1897475.0",
         "2023",
         "2023-08-19 15:40:26",
         "41.874223466",
         "-87.660609583"
        ],
        [
         "3",
         "13078152",
         "JG267031",
         "2023-01-01 00:00:00",
         "101XX S BEVERLY AVE",
         "1153",
         "DECEPTIVE PRACTICE",
         "FINANCIAL IDENTITY THEFT OVER $ 300",
         "RESIDENCE",
         "False",
         "False",
         "2213",
         "22",
         "21.0",
         "73.0",
         "11",
         "1168800.0",
         "1837525.0",
         "2023",
         "2023-08-19 15:40:26",
         "41.709684879",
         "-87.657438571"
        ],
        [
         "4",
         "13120699",
         "JG314178",
         "2023-01-01 00:00:00",
         "063XX N FAIRFIELD AVE",
         "1544",
         "SEX OFFENSE",
         "SEXUAL EXPLOITATION OF A CHILD",
         "OTHER (SPECIFY)",
         "False",
         "False",
         "2413",
         "24",
         "50.0",
         "2.0",
         "17",
         "1156847.0",
         "1941985.0",
         "2023",
         "2023-08-19 15:40:26",
         "41.9965838",
         "-87.698383738"
        ]
       ],
       "shape": {
        "columns": 21,
        "rows": 5
       }
      },
      "text/html": [
       "<div>\n",
       "<style scoped>\n",
       "    .dataframe tbody tr th:only-of-type {\n",
       "        vertical-align: middle;\n",
       "    }\n",
       "\n",
       "    .dataframe tbody tr th {\n",
       "        vertical-align: top;\n",
       "    }\n",
       "\n",
       "    .dataframe thead th {\n",
       "        text-align: right;\n",
       "    }\n",
       "</style>\n",
       "<table border=\"1\" class=\"dataframe\">\n",
       "  <thead>\n",
       "    <tr style=\"text-align: right;\">\n",
       "      <th></th>\n",
       "      <th>id</th>\n",
       "      <th>case_number</th>\n",
       "      <th>datetime</th>\n",
       "      <th>block</th>\n",
       "      <th>iucr</th>\n",
       "      <th>primary_type</th>\n",
       "      <th>description</th>\n",
       "      <th>location_description</th>\n",
       "      <th>arrest</th>\n",
       "      <th>domestic</th>\n",
       "      <th>...</th>\n",
       "      <th>district</th>\n",
       "      <th>ward</th>\n",
       "      <th>community_area</th>\n",
       "      <th>fbi_code</th>\n",
       "      <th>x_coordinate</th>\n",
       "      <th>y_coordinate</th>\n",
       "      <th>year</th>\n",
       "      <th>updated_on</th>\n",
       "      <th>latitude</th>\n",
       "      <th>longitude</th>\n",
       "    </tr>\n",
       "  </thead>\n",
       "  <tbody>\n",
       "    <tr>\n",
       "      <th>0</th>\n",
       "      <td>13140855</td>\n",
       "      <td>JG341458</td>\n",
       "      <td>2023-01-01 00:00:00</td>\n",
       "      <td>082XX S JEFFERY BLVD</td>\n",
       "      <td>1754</td>\n",
       "      <td>OFFENSE INVOLVING CHILDREN</td>\n",
       "      <td>AGGRAVATED SEXUAL ASSAULT OF CHILD BY FAMILY M...</td>\n",
       "      <td>APARTMENT</td>\n",
       "      <td>False</td>\n",
       "      <td>True</td>\n",
       "      <td>...</td>\n",
       "      <td>4</td>\n",
       "      <td>8.0</td>\n",
       "      <td>46.0</td>\n",
       "      <td>02</td>\n",
       "      <td>1190953.0</td>\n",
       "      <td>1850848.0</td>\n",
       "      <td>2023</td>\n",
       "      <td>2023-09-24 15:41:26</td>\n",
       "      <td>41.745739</td>\n",
       "      <td>-87.575883</td>\n",
       "    </tr>\n",
       "    <tr>\n",
       "      <th>1</th>\n",
       "      <td>13180096</td>\n",
       "      <td>JG387858</td>\n",
       "      <td>2023-01-01 00:00:00</td>\n",
       "      <td>075XX S WOLCOTT AVE</td>\n",
       "      <td>1153</td>\n",
       "      <td>DECEPTIVE PRACTICE</td>\n",
       "      <td>FINANCIAL IDENTITY THEFT OVER $ 300</td>\n",
       "      <td>RESIDENCE</td>\n",
       "      <td>False</td>\n",
       "      <td>False</td>\n",
       "      <td>...</td>\n",
       "      <td>6</td>\n",
       "      <td>17.0</td>\n",
       "      <td>71.0</td>\n",
       "      <td>11</td>\n",
       "      <td>1164996.0</td>\n",
       "      <td>1854651.0</td>\n",
       "      <td>2023</td>\n",
       "      <td>2023-08-20 15:40:56</td>\n",
       "      <td>41.756762</td>\n",
       "      <td>-87.670887</td>\n",
       "    </tr>\n",
       "    <tr>\n",
       "      <th>2</th>\n",
       "      <td>13168471</td>\n",
       "      <td>JG374193</td>\n",
       "      <td>2023-01-01 00:00:00</td>\n",
       "      <td>013XX W HARRISON ST</td>\n",
       "      <td>0460</td>\n",
       "      <td>BATTERY</td>\n",
       "      <td>SIMPLE</td>\n",
       "      <td>SCHOOL - PUBLIC GROUNDS</td>\n",
       "      <td>False</td>\n",
       "      <td>False</td>\n",
       "      <td>...</td>\n",
       "      <td>12</td>\n",
       "      <td>34.0</td>\n",
       "      <td>28.0</td>\n",
       "      <td>08B</td>\n",
       "      <td>1167465.0</td>\n",
       "      <td>1897475.0</td>\n",
       "      <td>2023</td>\n",
       "      <td>2023-08-19 15:40:26</td>\n",
       "      <td>41.874223</td>\n",
       "      <td>-87.660610</td>\n",
       "    </tr>\n",
       "    <tr>\n",
       "      <th>3</th>\n",
       "      <td>13078152</td>\n",
       "      <td>JG267031</td>\n",
       "      <td>2023-01-01 00:00:00</td>\n",
       "      <td>101XX S BEVERLY AVE</td>\n",
       "      <td>1153</td>\n",
       "      <td>DECEPTIVE PRACTICE</td>\n",
       "      <td>FINANCIAL IDENTITY THEFT OVER $ 300</td>\n",
       "      <td>RESIDENCE</td>\n",
       "      <td>False</td>\n",
       "      <td>False</td>\n",
       "      <td>...</td>\n",
       "      <td>22</td>\n",
       "      <td>21.0</td>\n",
       "      <td>73.0</td>\n",
       "      <td>11</td>\n",
       "      <td>1168800.0</td>\n",
       "      <td>1837525.0</td>\n",
       "      <td>2023</td>\n",
       "      <td>2023-08-19 15:40:26</td>\n",
       "      <td>41.709685</td>\n",
       "      <td>-87.657439</td>\n",
       "    </tr>\n",
       "    <tr>\n",
       "      <th>4</th>\n",
       "      <td>13120699</td>\n",
       "      <td>JG314178</td>\n",
       "      <td>2023-01-01 00:00:00</td>\n",
       "      <td>063XX N FAIRFIELD AVE</td>\n",
       "      <td>1544</td>\n",
       "      <td>SEX OFFENSE</td>\n",
       "      <td>SEXUAL EXPLOITATION OF A CHILD</td>\n",
       "      <td>OTHER (SPECIFY)</td>\n",
       "      <td>False</td>\n",
       "      <td>False</td>\n",
       "      <td>...</td>\n",
       "      <td>24</td>\n",
       "      <td>50.0</td>\n",
       "      <td>2.0</td>\n",
       "      <td>17</td>\n",
       "      <td>1156847.0</td>\n",
       "      <td>1941985.0</td>\n",
       "      <td>2023</td>\n",
       "      <td>2023-08-19 15:40:26</td>\n",
       "      <td>41.996584</td>\n",
       "      <td>-87.698384</td>\n",
       "    </tr>\n",
       "  </tbody>\n",
       "</table>\n",
       "<p>5 rows × 21 columns</p>\n",
       "</div>"
      ],
      "text/plain": [
       "         id case_number             datetime                  block  iucr  \\\n",
       "0  13140855    JG341458  2023-01-01 00:00:00   082XX S JEFFERY BLVD  1754   \n",
       "1  13180096    JG387858  2023-01-01 00:00:00    075XX S WOLCOTT AVE  1153   \n",
       "2  13168471    JG374193  2023-01-01 00:00:00    013XX W HARRISON ST  0460   \n",
       "3  13078152    JG267031  2023-01-01 00:00:00    101XX S BEVERLY AVE  1153   \n",
       "4  13120699    JG314178  2023-01-01 00:00:00  063XX N FAIRFIELD AVE  1544   \n",
       "\n",
       "                 primary_type  \\\n",
       "0  OFFENSE INVOLVING CHILDREN   \n",
       "1          DECEPTIVE PRACTICE   \n",
       "2                     BATTERY   \n",
       "3          DECEPTIVE PRACTICE   \n",
       "4                 SEX OFFENSE   \n",
       "\n",
       "                                         description     location_description  \\\n",
       "0  AGGRAVATED SEXUAL ASSAULT OF CHILD BY FAMILY M...                APARTMENT   \n",
       "1                FINANCIAL IDENTITY THEFT OVER $ 300                RESIDENCE   \n",
       "2                                             SIMPLE  SCHOOL - PUBLIC GROUNDS   \n",
       "3                FINANCIAL IDENTITY THEFT OVER $ 300                RESIDENCE   \n",
       "4                     SEXUAL EXPLOITATION OF A CHILD          OTHER (SPECIFY)   \n",
       "\n",
       "   arrest  domestic  ...  district  ward  community_area  fbi_code  \\\n",
       "0   False      True  ...         4   8.0            46.0        02   \n",
       "1   False     False  ...         6  17.0            71.0        11   \n",
       "2   False     False  ...        12  34.0            28.0       08B   \n",
       "3   False     False  ...        22  21.0            73.0        11   \n",
       "4   False     False  ...        24  50.0             2.0        17   \n",
       "\n",
       "  x_coordinate  y_coordinate  year          updated_on   latitude  longitude  \n",
       "0    1190953.0     1850848.0  2023 2023-09-24 15:41:26  41.745739 -87.575883  \n",
       "1    1164996.0     1854651.0  2023 2023-08-20 15:40:56  41.756762 -87.670887  \n",
       "2    1167465.0     1897475.0  2023 2023-08-19 15:40:26  41.874223 -87.660610  \n",
       "3    1168800.0     1837525.0  2023 2023-08-19 15:40:26  41.709685 -87.657439  \n",
       "4    1156847.0     1941985.0  2023 2023-08-19 15:40:26  41.996584 -87.698384  \n",
       "\n",
       "[5 rows x 21 columns]"
      ]
     },
     "execution_count": 163,
     "metadata": {},
     "output_type": "execute_result"
    }
   ],
   "source": [
    "chicago_crime.head()"
   ]
  },
  {
   "cell_type": "code",
   "execution_count": 164,
   "id": "407fecee",
   "metadata": {},
   "outputs": [
    {
     "name": "stdout",
     "output_type": "stream",
     "text": [
      "id                               int64\n",
      "case_number                     object\n",
      "datetime                        object\n",
      "block                           object\n",
      "iucr                            object\n",
      "primary_type                    object\n",
      "description                     object\n",
      "location_description            object\n",
      "arrest                            bool\n",
      "domestic                          bool\n",
      "beat                             int64\n",
      "district                         int64\n",
      "ward                           float64\n",
      "community_area                 float64\n",
      "fbi_code                        object\n",
      "x_coordinate                   float64\n",
      "y_coordinate                   float64\n",
      "year                             int64\n",
      "updated_on              datetime64[ns]\n",
      "latitude                       float64\n",
      "longitude                      float64\n",
      "dtype: object\n"
     ]
    }
   ],
   "source": [
    "print(chicago_crime.dtypes)"
   ]
  },
  {
   "cell_type": "markdown",
   "id": "80723e40",
   "metadata": {},
   "source": [
    "## The Gemini API\n",
    "\n",
    "Throughout this workshop, we will use API as the backend LLM for generating the SQL queries. This notebook will show how to use the Gemini API for generating SQL queries. Let's start by reviewing the functionality of the API.\n",
    "\n",
    "### Setting Up API Key\n",
    "\n",
    "To use the Gemini API, you will have to register to the API and setup your own key. To register to the API go the [Gemini Developer API main page](https://ai.google.dev/gemini-api/docs), and click on the \"Get a Gemini API Key\" button on the top right corner (marked in purple):\n",
    "\n",
    "<figure>\n",
    " <img src=\"images/gemini_api.png\" width=\"100%\" align=\"center\"/></a>\n",
    "<figcaption> The Gemini Developer API page </figcaption>\n",
    "</figure>\n",
    "\n",
    "<br>\n",
    "<br />\n",
    "\n",
    "If you already have a Google account it will direct you to the API Key page, where you can create keys (marked in yellow):\n",
    "<figure>\n",
    " <img src=\"images/gemini_api_key.png\" width=\"100%\" align=\"center\"/></a>\n",
    "<figcaption> Creating a new API key </figcaption>\n",
    "</figure>\n",
    "\n",
    "<br>\n",
    "<br />\n",
    "You can see in the button of this page the list of existing API keys. Note that we are using a free plan, therefore, we will be limited in the type of models that we can use.\n",
    "\n",
    "\n",
    "You should store the API key as an environment variable (for macOS and Linux) by adding the following line to your code to your `zshrc` or `bashrc` file:\n",
    "\n",
    "```bash\n",
    "export GEMINI_API_KEY=\"your_api_key\"\n",
    "```\n",
    "\n",
    "<br>\n",
    "<br />\n",
    "\n",
    "## Getting Started with the Gemini API\n",
    "\n",
    "Let's start by creating a client object by registering the API key. We will load the environment variable using the `os`'s `environ.get()` method: "
   ]
  },
  {
   "cell_type": "code",
   "execution_count": 165,
   "id": "8eae39fa",
   "metadata": {},
   "outputs": [],
   "source": [
    "api_key = os.environ.get(\"GEMINI_API_KEY\")\n",
    "client = genai.Client(api_key = api_key)"
   ]
  },
  {
   "cell_type": "markdown",
   "id": "854ca34d",
   "metadata": {},
   "source": [
    "We will use the Gemini text generating model using the `models.generate_content` [method](https://ai.google.dev/api/generate-content#method:-models.generatecontent) to send prompts to the API. Here are the key arguments of the function:\n",
    "- `model`: The name of the model to use, in this case, [gemini-2.0-flash](https://ai.google.dev/gemini-api/docs/models#gemini-2.0-flash).\n",
    "- `content`: The prompt for the model to generate content.\n",
    "- `max_output_tokens`: The maximum number of tokens to include in a response candidate.\n",
    "- `temperature`: Controls the randomness of the output. Higher values result in more varied and creative outputs, while lower values lead to more predictable and conservative responses.\n",
    "\n",
    "Throughout this workshop, to reproduce the same results, we will set the `temperature` argument to 0.\n",
    "\n",
    "We will start with a simplistic prompt, where we are going to provides the model with context and ask it to generate a query. The Gemini API  specification requires us to provide the `contents` argument with your prompt. We will start by simply define a the following prompt:"
   ]
  },
  {
   "cell_type": "code",
   "execution_count": 166,
   "id": "af43aa52",
   "metadata": {},
   "outputs": [],
   "source": [
    "prompt1 = \"\"\"\n",
    "        I am working with a dataset that contains information about Chicago crime incidents. \n",
    "        I want to create a SQL query to pull the total number of crimes that ended in arrest by a year\n",
    "        \"\"\""
   ]
  },
  {
   "cell_type": "code",
   "execution_count": 167,
   "id": "ea999e30",
   "metadata": {},
   "outputs": [],
   "source": [
    "response1 = client.models.generate_content(\n",
    "    model=\"gemini-2.0-flash\",\n",
    "    contents= prompt1,\n",
    "    config=types.GenerateContentConfig(\n",
    "        max_output_tokens=500,\n",
    "        temperature=0\n",
    "    )\n",
    ")"
   ]
  },
  {
   "cell_type": "markdown",
   "id": "cf6ef743",
   "metadata": {},
   "source": [
    "Let's print the response:"
   ]
  },
  {
   "cell_type": "code",
   "execution_count": 168,
   "id": "94138a6b",
   "metadata": {},
   "outputs": [
    {
     "name": "stdout",
     "output_type": "stream",
     "text": [
      "```sql\n",
      "SELECT\n",
      "    STRFTIME('%Y', Date) AS CrimeYear,  -- Extract the year from the 'Date' column\n",
      "    COUNT(*) AS TotalArrests  -- Count the number of crimes in each year that resulted in an arrest\n",
      "FROM\n",
      "    ChicagoCrimeData  -- Replace 'ChicagoCrimeData' with the actual name of your table\n",
      "WHERE\n",
      "    Arrest = TRUE  -- Filter for incidents where an arrest was made\n",
      "GROUP BY\n",
      "    CrimeYear  -- Group the results by year\n",
      "ORDER BY\n",
      "    CrimeYear;  -- Order the results by year for readability\n",
      "```\n",
      "\n",
      "**Explanation:**\n",
      "\n",
      "1.  **`SELECT STRFTIME('%Y', Date) AS CrimeYear`**:\n",
      "    *   `STRFTIME('%Y', Date)`: This extracts the year from the `Date` column.  The `STRFTIME` function is a SQLite function (and often available in other SQL dialects) that allows you to format date and time values.  `'%Y'` specifies that you want to extract the year in a four-digit format (e.g., 2023).\n",
      "    *   `AS CrimeYear`: This assigns the alias \"CrimeYear\" to the extracted year, making it easier to refer to in the rest of the query.\n",
      "\n",
      "2.  **`COUNT(*) AS TotalArrests`**:\n",
      "    *   `COUNT(*)`: This counts the number of rows (i.e., crime incidents) that meet the specified criteria.\n",
      "    *   `AS TotalArrests`: This assigns the alias \"TotalArrests\" to the count, making the output more descriptive.\n",
      "\n",
      "3.  **`FROM ChicagoCrimeData`**:\n",
      "    *   `ChicagoCrimeData`:  This specifies the table from which you are retrieving the data.  **Important:**  Replace `ChicagoCrimeData` with the actual name of your table in your database.\n",
      "\n",
      "4.  **`WHERE Arrest = TRUE`**:\n",
      "    *   `WHERE Arrest = TRUE`: This filters the data to include only crime incidents where an arrest was made.  It assumes that the `Arrest` column is a boolean (TRUE/FALSE) or a similar representation (e.g., 1/0).  If your `Arrest` column uses a different representation (e.g., 'Yes'/'No'), adjust the `WHERE` clause accordingly (e.\n"
     ]
    }
   ],
   "source": [
    "print(response1.candidates[0].content.parts[0].text)"
   ]
  },
  {
   "cell_type": "markdown",
   "id": "5ae5dcbd",
   "metadata": {},
   "source": [
    "As you can notice, the model response is generic and due to a lack of context. The model makes some assumptions about the table's column names and their attributes. We can improve this by providing a better context in the next example:"
   ]
  },
  {
   "cell_type": "code",
   "execution_count": 169,
   "id": "c4792aa8",
   "metadata": {},
   "outputs": [],
   "source": [
    "prompt2 = \"\"\"I am working with a dataset that contains information about Chicago crime incidents. \n",
    "        The table name is 'chicago_crime'. I want to create a SQL query to pull the total number of crimes that ended in arrest by a year. \n",
    "        The columns are: id, case_number, date, block, primary_type, description, location_description, arrest, domestic, beat, district, ward, community_area, fbi_code, x_coordinate, y_coordinate, year, updated_on. Please provide the SQL query.\n",
    "        \"\"\""
   ]
  },
  {
   "cell_type": "code",
   "execution_count": 170,
   "id": "824b243a",
   "metadata": {},
   "outputs": [],
   "source": [
    "response2 = client.models.generate_content(\n",
    "    model=\"gemini-2.0-flash\",\n",
    "    contents= prompt2,\n",
    "    config=types.GenerateContentConfig(\n",
    "        max_output_tokens=500,\n",
    "        temperature=0\n",
    "    )\n",
    ")"
   ]
  },
  {
   "cell_type": "code",
   "execution_count": 171,
   "id": "d53bdcda",
   "metadata": {},
   "outputs": [
    {
     "name": "stdout",
     "output_type": "stream",
     "text": [
      "```sql\n",
      "SELECT\n",
      "    year,\n",
      "    COUNT(*) AS total_arrests\n",
      "FROM\n",
      "    chicago_crime\n",
      "WHERE\n",
      "    arrest = TRUE  -- Assuming 'arrest' is a boolean column (TRUE/FALSE)\n",
      "    -- If 'arrest' is a string column ('TRUE'/'FALSE' or 'Yes'/'No'), adjust the WHERE clause accordingly.\n",
      "    -- For example: WHERE arrest = 'TRUE' or WHERE arrest = 'Yes'\n",
      "GROUP BY\n",
      "    year\n",
      "ORDER BY\n",
      "    year;\n",
      "```\n",
      "\n",
      "**Explanation:**\n",
      "\n",
      "1. **`SELECT year, COUNT(*) AS total_arrests`**:  This selects the `year` and the count of all rows for each year, aliasing the count as `total_arrests`.\n",
      "2. **`FROM chicago_crime`**:  This specifies the table to retrieve data from.\n",
      "3. **`WHERE arrest = TRUE`**: This filters the data to include only rows where the `arrest` column indicates an arrest was made.  **Important:**  This assumes your `arrest` column is a boolean (TRUE/FALSE).  If it's a string (e.g., 'TRUE', 'FALSE', 'Yes', 'No'), you'll need to adjust this condition accordingly (see the comment in the code).\n",
      "4. **`GROUP BY year`**: This groups the results by year, so `COUNT(*)` counts the arrests for each year separately.\n",
      "5. **`ORDER BY year`**: This sorts the results by year in ascending order, making the output easier to read.\n",
      "\n",
      "**Important Considerations based on the `arrest` column data type:**\n",
      "\n",
      "*   **Boolean (TRUE/FALSE):** The query as written is correct.\n",
      "*   **String ('TRUE'/'FALSE' or 'Yes'/'No'):**  You'll need to modify the `WHERE` clause:\n",
      "\n",
      "    ```sql\n",
      "    WHERE arrest = 'TRUE'  -- If the column contains 'TRUE' and 'FALSE'\n",
      "    ```\n",
      "\n",
      "    or\n",
      "\n",
      "    ```sql\n",
      "    WHERE arrest = 'Yes'   -- If the column contains 'Yes' and 'No'\n",
      "    ```\n",
      "\n",
      "*   **Integer (1/0):**  You'll need to modify the `WHERE` clause:\n",
      "\n",
      "    ```sql\n",
      "    WHERE arrest = 1  -- If the column contains 1 for arrest and \n"
     ]
    }
   ],
   "source": [
    "print(response2.candidates[0].content.parts[0].text)"
   ]
  },
  {
   "cell_type": "markdown",
   "id": "2c035cf5",
   "metadata": {},
   "source": [
    "Let's copy the SQL code and test it:"
   ]
  },
  {
   "cell_type": "code",
   "execution_count": 172,
   "id": "17789385",
   "metadata": {},
   "outputs": [],
   "source": [
    "sql = \"\"\"\n",
    "SELECT\n",
    "    year,\n",
    "    COUNT(*) AS total_arrests\n",
    "FROM\n",
    "    chicago_crime\n",
    "WHERE\n",
    "    arrest = TRUE  -- Assuming 'arrest' is a boolean column (TRUE/FALSE)\n",
    "    -- If 'arrest' is a string column ('TRUE'/'FALSE' or 'Yes'/'No'), adjust the WHERE clause accordingly.\n",
    "    -- For example: WHERE arrest = 'TRUE' or WHERE arrest = 'Yes'\n",
    "GROUP BY\n",
    "    year\n",
    "ORDER BY\n",
    "    year;\n",
    "    \"\"\""
   ]
  },
  {
   "cell_type": "code",
   "execution_count": 173,
   "id": "c87301c6",
   "metadata": {},
   "outputs": [
    {
     "name": "stdout",
     "output_type": "stream",
     "text": [
      "┌───────┬───────────────┐\n",
      "│ year  │ total_arrests │\n",
      "│ int64 │     int64     │\n",
      "├───────┼───────────────┤\n",
      "│  2023 │         31990 │\n",
      "│  2024 │         35376 │\n",
      "│  2025 │         12555 │\n",
      "└───────┴───────────────┘\n",
      "\n"
     ]
    }
   ],
   "source": [
    "duckdb.sql(sql).show()"
   ]
  },
  {
   "cell_type": "markdown",
   "id": "93e8257d",
   "metadata": {},
   "source": [
    "## Setting Templates \n",
    "\n",
    "In this section we will generalize the prompt by setting a prompt template. Starting by setting a dedicated template for the Chicago Crime dataset:"
   ]
  },
  {
   "cell_type": "code",
   "execution_count": 174,
   "id": "b29698a0",
   "metadata": {},
   "outputs": [],
   "source": [
    "prompt_template = \"\"\"I am working with a dataset that contains information about Chicago crime incidents. \n",
    "                    The table name is 'chicago_crime'. I want to create a SQL query that answers the following question: \"{}\". \n",
    "                    The columns are: id, case_number, date, block, primary_type, description, location_description, arrest, domestic, beat, district, ward, community_area, fbi_code, x_coordinate, y_coordinate, year, updated_on. Please provide the SQL query.\n",
    "                \"\"\""
   ]
  },
  {
   "cell_type": "code",
   "execution_count": 175,
   "id": "89c61dd6",
   "metadata": {},
   "outputs": [],
   "source": [
    "user_question = \"How many cases ended up with arrest during 2024?\"\n",
    "prompt3 = prompt_template.format(user_question)"
   ]
  },
  {
   "cell_type": "code",
   "execution_count": 176,
   "id": "79f34a9d",
   "metadata": {},
   "outputs": [],
   "source": [
    "response3 = client.models.generate_content(\n",
    "    model=\"gemini-2.0-flash\",\n",
    "    contents= prompt3,\n",
    "    config=types.GenerateContentConfig(\n",
    "        max_output_tokens=500,\n",
    "        temperature=0\n",
    "    )\n",
    ")"
   ]
  },
  {
   "cell_type": "code",
   "execution_count": 177,
   "id": "b54a0d76",
   "metadata": {},
   "outputs": [
    {
     "name": "stdout",
     "output_type": "stream",
     "text": [
      "```sql\n",
      "SELECT COUNT(*) AS arrest_count\n",
      "FROM chicago_crime\n",
      "WHERE year = 2024\n",
      "  AND arrest = TRUE;\n",
      "```\n",
      "\n",
      "**Explanation:**\n",
      "\n",
      "*   **`SELECT COUNT(*) AS arrest_count`**: This counts all rows that meet the specified criteria and names the resulting count `arrest_count`.\n",
      "*   **`FROM chicago_crime`**: This specifies that we are querying the `chicago_crime` table.\n",
      "*   **`WHERE year = 2024`**: This filters the data to include only incidents that occurred in the year 2024.\n",
      "*   **`AND arrest = TRUE`**: This further filters the data to include only incidents where an arrest was made.  The `arrest` column is assumed to be a boolean (TRUE/FALSE) indicating whether an arrest occurred.  If the `arrest` column is stored as a different data type (e.g., 'Y'/'N', 1/0), you'll need to adjust this condition accordingly (e.g., `AND arrest = 'Y'` or `AND arrest = 1`).\n",
      "\n"
     ]
    }
   ],
   "source": [
    "print(response3.candidates[0].content.parts[0].text)"
   ]
  },
  {
   "cell_type": "markdown",
   "id": "cceed783",
   "metadata": {},
   "source": [
    "Let's evaluate the query with the `duckdb` `sql` method:"
   ]
  },
  {
   "cell_type": "code",
   "execution_count": 178,
   "id": "67acf677",
   "metadata": {},
   "outputs": [],
   "source": [
    "sql = \"\"\"\n",
    "SELECT COUNT(*) AS arrest_count\n",
    "FROM chicago_crime\n",
    "WHERE year = 2024\n",
    "  AND arrest = TRUE;\n",
    "\"\"\""
   ]
  },
  {
   "cell_type": "code",
   "execution_count": 179,
   "id": "f0b77f80",
   "metadata": {},
   "outputs": [
    {
     "name": "stdout",
     "output_type": "stream",
     "text": [
      "┌──────────────┐\n",
      "│ arrest_count │\n",
      "│    int64     │\n",
      "├──────────────┤\n",
      "│        35376 │\n",
      "└──────────────┘\n",
      "\n"
     ]
    }
   ],
   "source": [
    "duckdb.sql(sql).show()"
   ]
  },
  {
   "cell_type": "markdown",
   "id": "608cf891",
   "metadata": {},
   "source": [
    "## Generalize the Template\n",
    "\n",
    "Let's now generalize the template that it can be applied on any table. We will split the template into two parts: one for the user and another for the system. The system part will be a prompt that describes the table's structure, while the user part will ask for a query. \n",
    "\n",
    "**Note:** We will follow the same naming convention as in the OpenAI's example (i.e., `system` and `user` roles), and concatenate the two parts to form the final prompt.\n",
    "\n",
    "Here is the system template:"
   ]
  },
  {
   "cell_type": "code",
   "execution_count": 180,
   "id": "2745d2c1",
   "metadata": {},
   "outputs": [],
   "source": [
    "system_template = \"\"\"\n",
    "Given the following SQL table, your job is to write queries given a user’s request. \\n\n",
    "CREATE TABLE {} ({}) \\n\n",
    "\"\"\""
   ]
  },
  {
   "cell_type": "markdown",
   "id": "3be39267",
   "metadata": {},
   "source": [
    "Where, we will define the table schema as SQL statement. Likewise, we will define the user template as:"
   ]
  },
  {
   "cell_type": "code",
   "execution_count": 181,
   "id": "3ece2f70",
   "metadata": {},
   "outputs": [],
   "source": [
    "user_template = \"Write a SQL query that returns - {}\""
   ]
  },
  {
   "cell_type": "markdown",
   "id": "6cc7ee1e",
   "metadata": {},
   "source": [
    "Next, we want to auto generate the table schema the by applying SQL `DESCRIBE` command leveraging `duckdb` SQL execution on the table:"
   ]
  },
  {
   "cell_type": "code",
   "execution_count": 182,
   "id": "ea0a4505",
   "metadata": {},
   "outputs": [
    {
     "data": {
      "text/plain": [
       "┌──────────────────────┬──────────────┬─────────┬─────────┬─────────┬─────────┐\n",
       "│     column_name      │ column_type  │  null   │   key   │ default │  extra  │\n",
       "│       varchar        │   varchar    │ varchar │ varchar │ varchar │ varchar │\n",
       "├──────────────────────┼──────────────┼─────────┼─────────┼─────────┼─────────┤\n",
       "│ id                   │ BIGINT       │ YES     │ NULL    │ NULL    │ NULL    │\n",
       "│ case_number          │ VARCHAR      │ YES     │ NULL    │ NULL    │ NULL    │\n",
       "│ datetime             │ VARCHAR      │ YES     │ NULL    │ NULL    │ NULL    │\n",
       "│ block                │ VARCHAR      │ YES     │ NULL    │ NULL    │ NULL    │\n",
       "│ iucr                 │ VARCHAR      │ YES     │ NULL    │ NULL    │ NULL    │\n",
       "│ primary_type         │ VARCHAR      │ YES     │ NULL    │ NULL    │ NULL    │\n",
       "│ description          │ VARCHAR      │ YES     │ NULL    │ NULL    │ NULL    │\n",
       "│ location_description │ VARCHAR      │ YES     │ NULL    │ NULL    │ NULL    │\n",
       "│ arrest               │ BOOLEAN      │ YES     │ NULL    │ NULL    │ NULL    │\n",
       "│ domestic             │ BOOLEAN      │ YES     │ NULL    │ NULL    │ NULL    │\n",
       "│ beat                 │ BIGINT       │ YES     │ NULL    │ NULL    │ NULL    │\n",
       "│ district             │ BIGINT       │ YES     │ NULL    │ NULL    │ NULL    │\n",
       "│ ward                 │ DOUBLE       │ YES     │ NULL    │ NULL    │ NULL    │\n",
       "│ community_area       │ DOUBLE       │ YES     │ NULL    │ NULL    │ NULL    │\n",
       "│ fbi_code             │ VARCHAR      │ YES     │ NULL    │ NULL    │ NULL    │\n",
       "│ x_coordinate         │ DOUBLE       │ YES     │ NULL    │ NULL    │ NULL    │\n",
       "│ y_coordinate         │ DOUBLE       │ YES     │ NULL    │ NULL    │ NULL    │\n",
       "│ year                 │ BIGINT       │ YES     │ NULL    │ NULL    │ NULL    │\n",
       "│ updated_on           │ TIMESTAMP_NS │ YES     │ NULL    │ NULL    │ NULL    │\n",
       "│ latitude             │ DOUBLE       │ YES     │ NULL    │ NULL    │ NULL    │\n",
       "│ longitude            │ DOUBLE       │ YES     │ NULL    │ NULL    │ NULL    │\n",
       "├──────────────────────┴──────────────┴─────────┴─────────┴─────────┴─────────┤\n",
       "│ 21 rows                                                           6 columns │\n",
       "└─────────────────────────────────────────────────────────────────────────────┘"
      ]
     },
     "execution_count": 182,
     "metadata": {},
     "output_type": "execute_result"
    }
   ],
   "source": [
    "table_name = \"chicago_crime\" \n",
    "tbl_description = duckdb.sql(\"DESCRIBE SELECT * FROM \" + table_name +  \";\")\n",
    "tbl_description"
   ]
  },
  {
   "cell_type": "markdown",
   "id": "786a2b26",
   "metadata": {},
   "source": [
    "We will parse from the table description the column names and their class:"
   ]
  },
  {
   "cell_type": "code",
   "execution_count": 183,
   "id": "a8890cb0",
   "metadata": {},
   "outputs": [
    {
     "data": {
      "text/plain": [
       "'id BIGINT, case_number VARCHAR, datetime VARCHAR, block VARCHAR, iucr VARCHAR, primary_type VARCHAR, description VARCHAR, location_description VARCHAR, arrest BOOLEAN, domestic BOOLEAN, beat BIGINT, district BIGINT, ward DOUBLE, community_area DOUBLE, fbi_code VARCHAR, x_coordinate DOUBLE, y_coordinate DOUBLE, year BIGINT, updated_on TIMESTAMP_NS, latitude DOUBLE, longitude DOUBLE'"
      ]
     },
     "execution_count": 183,
     "metadata": {},
     "output_type": "execute_result"
    }
   ],
   "source": [
    "col_attr = tbl_description.df()[[\"column_name\", \"column_type\"]]\n",
    "col_attr[\"column_joint\"] = col_attr[\"column_name\"] + \" \" +  col_attr[\"column_type\"]\n",
    "col_names = str(list(col_attr[\"column_joint\"].values)).replace('[', '').replace(']', '').replace('\\'', '')\n",
    "col_names"
   ]
  },
  {
   "cell_type": "markdown",
   "id": "f1c7a8a4",
   "metadata": {},
   "source": [
    "We can now use it to set the table schema on the system template:"
   ]
  },
  {
   "cell_type": "code",
   "execution_count": 184,
   "id": "f6d9ce07",
   "metadata": {},
   "outputs": [
    {
     "name": "stdout",
     "output_type": "stream",
     "text": [
      "\n",
      "Given the following SQL table, your job is to write queries given a user’s request. \n",
      "\n",
      "CREATE TABLE chicago_crime (id BIGINT, case_number VARCHAR, datetime VARCHAR, block VARCHAR, iucr VARCHAR, primary_type VARCHAR, description VARCHAR, location_description VARCHAR, arrest BOOLEAN, domestic BOOLEAN, beat BIGINT, district BIGINT, ward DOUBLE, community_area DOUBLE, fbi_code VARCHAR, x_coordinate DOUBLE, y_coordinate DOUBLE, year BIGINT, updated_on TIMESTAMP_NS, latitude DOUBLE, longitude DOUBLE) \n",
      "\n",
      "\n"
     ]
    }
   ],
   "source": [
    "system = system_template.format(table_name, col_names)\n",
    "print(system)"
   ]
  },
  {
   "cell_type": "markdown",
   "id": "a24dce61",
   "metadata": {},
   "source": [
    "Likewise, we will set the user template by adding the question:"
   ]
  },
  {
   "cell_type": "code",
   "execution_count": 185,
   "id": "4fdb4ea5",
   "metadata": {},
   "outputs": [
    {
     "name": "stdout",
     "output_type": "stream",
     "text": [
      "Write a SQL query that returns - How many cases ended up with arrest during 2024?\n"
     ]
    }
   ],
   "source": [
    "question = \"How many cases ended up with arrest during 2024?\"\n",
    "user = user_template.format(question)\n",
    "print(user)"
   ]
  },
  {
   "cell_type": "code",
   "execution_count": 186,
   "id": "65b880fc",
   "metadata": {},
   "outputs": [],
   "source": [
    "prompt4 = [system, user]"
   ]
  },
  {
   "cell_type": "code",
   "execution_count": 187,
   "id": "4f704501",
   "metadata": {},
   "outputs": [],
   "source": [
    "response4 = client.models.generate_content(\n",
    "    model=\"gemini-2.0-flash\",\n",
    "    contents= prompt4,\n",
    "    config=types.GenerateContentConfig(\n",
    "        max_output_tokens=500,\n",
    "        temperature=0\n",
    "    )\n",
    ")"
   ]
  },
  {
   "cell_type": "code",
   "execution_count": 188,
   "id": "fba261c9",
   "metadata": {},
   "outputs": [
    {
     "name": "stdout",
     "output_type": "stream",
     "text": [
      "```sql\n",
      "SELECT\n",
      "  COUNT(CASE WHEN arrest = TRUE THEN 1 ELSE NULL END)\n",
      "FROM chicago_crime\n",
      "WHERE\n",
      "  year = 2024;\n",
      "```\n"
     ]
    }
   ],
   "source": [
    "print(response4.candidates[0].content.parts[0].text)"
   ]
  },
  {
   "cell_type": "markdown",
   "id": "32db6aa5",
   "metadata": {},
   "source": [
    "Note that the return SQL code comes in markdown code chunk format (e.g., `'''sql`). While with the OpenAI models it was sufficient to modify the prompt, it does not seems to be effective with the Gemini model. We will have to use a custom function to extract the code from the response:"
   ]
  },
  {
   "cell_type": "code",
   "execution_count": 189,
   "id": "785aa4b2",
   "metadata": {},
   "outputs": [],
   "source": [
    "import re\n",
    "\n",
    "def is_markdown_code_chunk(text):\n",
    "    \"\"\"\n",
    "    Checks if the given text is in Markdown code chunk format.\n",
    "\n",
    "    Args:\n",
    "        text (str): The text to check.\n",
    "\n",
    "    Returns:\n",
    "        bool: True if the text is in Markdown code chunk format, False otherwise.\n",
    "    \"\"\"\n",
    "    pattern = r\"```[^`]*```\"\n",
    "    return bool(re.search(pattern, text, re.DOTALL))\n",
    "\n",
    "def extract_code_from_markdown(markdown_text):\n",
    "    \"\"\"\n",
    "    Extracts code from a Markdown code chunk.\n",
    "\n",
    "    Args:\n",
    "        markdown_text (str): The Markdown text containing the code chunk.\n",
    "\n",
    "    Returns:\n",
    "        str: The extracted code.\n",
    "    \"\"\"\n",
    "    pattern = r\"```(.*?)\\n(?P<code>.*?)\\n```\"\n",
    "    match = re.search(pattern, markdown_text, re.DOTALL)\n",
    "    if match:\n",
    "        return match.group(\"code\")\n",
    "    else:\n",
    "        return None\n",
    "\n",
    "\n"
   ]
  },
  {
   "cell_type": "markdown",
   "id": "8a6ab76b",
   "metadata": {},
   "source": [
    "The first function - `is_markdowdown_code_chunk` is a function that checks if the input text contains code in Markdown format. It uses regular expressions to match the pattern of a Markdown code chunk, which consists of three backticks. The second function - `extract_code_from_markdown` extract the code from the Markdown format.\n",
    "\n",
    "Let's see an example of how to use these functions:"
   ]
  },
  {
   "cell_type": "code",
   "execution_count": 190,
   "id": "d4bef28b",
   "metadata": {},
   "outputs": [
    {
     "name": "stdout",
     "output_type": "stream",
     "text": [
      "```sql\n",
      "SELECT\n",
      "  COUNT(CASE WHEN arrest = TRUE THEN 1 ELSE NULL END)\n",
      "FROM chicago_crime\n",
      "WHERE\n",
      "  year = 2024;\n",
      "```\n",
      "SELECT\n",
      "  COUNT(CASE WHEN arrest = TRUE THEN 1 ELSE NULL END)\n",
      "FROM chicago_crime\n",
      "WHERE\n",
      "  year = 2024;\n"
     ]
    }
   ],
   "source": [
    "sql_chunk  = response4.candidates[0].content.parts[0].text\n",
    "\n",
    "if is_markdown_code_chunk(text= sql_chunk):\n",
    "    sql = extract_code_from_markdown(markdown_text= sql_chunk)\n",
    "else:\n",
    "    sql = sql_chunk\n",
    "\n",
    "print(sql_chunk)\n",
    "print(sql)"
   ]
  },
  {
   "cell_type": "markdown",
   "id": "2f2dde02",
   "metadata": {},
   "source": [
    "Let's evaluate the sql code:"
   ]
  },
  {
   "cell_type": "code",
   "execution_count": 191,
   "id": "1761a2c5",
   "metadata": {},
   "outputs": [
    {
     "name": "stdout",
     "output_type": "stream",
     "text": [
      "┌────────────────────────────────────────────────────────────────────────────┐\n",
      "│ count(CASE  WHEN ((arrest = CAST('t' AS BOOLEAN))) THEN (1) ELSE NULL END) │\n",
      "│                                   int64                                    │\n",
      "├────────────────────────────────────────────────────────────────────────────┤\n",
      "│                                                                      35376 │\n",
      "└────────────────────────────────────────────────────────────────────────────┘\n",
      "\n"
     ]
    }
   ],
   "source": [
    "duckdb.sql(sql).show()"
   ]
  },
  {
   "cell_type": "markdown",
   "id": "7be4d280",
   "metadata": {},
   "source": [
    "## Functionalize the Process\n",
    "\n",
    "The last step is to create a function that takes a user question and returns the corresponding data. The `create_message` function set the system and user message (or prompt) template:\n",
    "\n",
    "<figure>\n",
    " <img src=\"images/architecture 1.png\" width=\"100%\" align=\"center\"/></a>\n",
    "<figcaption> The agent architecture</figcaption>\n",
    "</figure>\n",
    "\n",
    "<br>\n",
    "<br />"
   ]
  },
  {
   "cell_type": "code",
   "execution_count": 192,
   "id": "aed31c95",
   "metadata": {},
   "outputs": [],
   "source": [
    "def create_message(table_name, query):\n",
    "\n",
    "    class message:\n",
    "        def __init__(message, system, user, column_names, column_attr):\n",
    "            message.system = system\n",
    "            message.user = user\n",
    "            message.column_names = column_names\n",
    "            message.column_attr = column_attr\n",
    "\n",
    "    \n",
    "    system_template = \"\"\"\n",
    "\n",
    "    Given the following SQL table, your job is to write queries given a user’s request. Return just the SQL query as plan text, without additional text and don't use markdown format. \\n\n",
    "\n",
    "    CREATE TABLE {} ({}) \\n\n",
    "    \"\"\"\n",
    "\n",
    "    user_template = \"Write a SQL query that returns - {}\"\n",
    "    \n",
    "    tbl_describe = duckdb.sql(\"DESCRIBE SELECT * FROM \" + table_name +  \";\")\n",
    "    col_attr = tbl_describe.df()[[\"column_name\", \"column_type\"]]\n",
    "    col_attr[\"column_joint\"] = col_attr[\"column_name\"] + \" \" +  col_attr[\"column_type\"]\n",
    "    col_names = str(list(col_attr[\"column_joint\"].values)).replace('[', '').replace(']', '').replace('\\'', '')\n",
    "\n",
    "    system = system_template.format(table_name, col_names)\n",
    "    user = user_template.format(query)\n",
    "\n",
    "    m = message(system = system, user = user, column_names = col_attr[\"column_name\"], column_attr = col_attr[\"column_type\"])\n",
    "    return m"
   ]
  },
  {
   "cell_type": "markdown",
   "id": "b07250e0",
   "metadata": {},
   "source": [
    "**Note:** We will use the same prompt format as we used with for the OpenAI API, and modified it to the Gemini prompt format.\n",
    "\n",
    "Let's test it:"
   ]
  },
  {
   "cell_type": "code",
   "execution_count": 193,
   "id": "34c88731",
   "metadata": {},
   "outputs": [],
   "source": [
    "query = \"How many cases ended up with arrest?\"\n",
    "msg = create_message(table_name = \"chicago_crime\", query = query)"
   ]
  },
  {
   "cell_type": "code",
   "execution_count": 194,
   "id": "30ff79f1",
   "metadata": {},
   "outputs": [
    {
     "name": "stdout",
     "output_type": "stream",
     "text": [
      "\n",
      "\n",
      "    Given the following SQL table, your job is to write queries given a user’s request. Return just the SQL query as plan text, without additional text and don't use markdown format. \n",
      "\n",
      "\n",
      "    CREATE TABLE chicago_crime (id BIGINT, case_number VARCHAR, datetime VARCHAR, block VARCHAR, iucr VARCHAR, primary_type VARCHAR, description VARCHAR, location_description VARCHAR, arrest BOOLEAN, domestic BOOLEAN, beat BIGINT, district BIGINT, ward DOUBLE, community_area DOUBLE, fbi_code VARCHAR, x_coordinate DOUBLE, y_coordinate DOUBLE, year BIGINT, updated_on TIMESTAMP_NS, latitude DOUBLE, longitude DOUBLE) \n",
      "\n",
      "    \n"
     ]
    }
   ],
   "source": [
    "print(msg.system)"
   ]
  },
  {
   "cell_type": "code",
   "execution_count": 195,
   "id": "fe8bbc69",
   "metadata": {},
   "outputs": [],
   "source": [
    "prompt = [msg.system, msg.user]"
   ]
  },
  {
   "cell_type": "code",
   "execution_count": 196,
   "id": "c490680e",
   "metadata": {},
   "outputs": [],
   "source": [
    "response = client.models.generate_content(\n",
    "    model=\"gemini-2.0-flash\",\n",
    "    contents= prompt,\n",
    "    config=types.GenerateContentConfig(\n",
    "        max_output_tokens=500,\n",
    "        temperature=0,\n",
    "        top_p = 1,\n",
    "        top_k = 32\n",
    "    )\n",
    ")"
   ]
  },
  {
   "cell_type": "code",
   "execution_count": 197,
   "id": "8a67415e",
   "metadata": {},
   "outputs": [
    {
     "name": "stdout",
     "output_type": "stream",
     "text": [
      "```sql\n",
      "SELECT count(*) FROM chicago_crime WHERE arrest = TRUE\n",
      "```\n",
      "SELECT count(*) FROM chicago_crime WHERE arrest = TRUE\n"
     ]
    }
   ],
   "source": [
    "code = response.candidates[0].content.parts[0].text\n",
    "print(code)\n",
    "code = extract_code_from_markdown(markdown_text=code)\n",
    "print(code)\n"
   ]
  },
  {
   "cell_type": "markdown",
   "id": "7032892e",
   "metadata": {},
   "source": [
    "The next step is to set a function that send the prompt to the API (i.e., API handler). In this case, we will set the function to work with the Gemini API:\n",
    "\n",
    "<figure>\n",
    " <img src=\"images/architecture 2.png\" width=\"100%\" align=\"center\"/></a>\n",
    "<figcaption> The agent architecture</figcaption>\n",
    "</figure>\n",
    "\n",
    "<br>\n",
    "<br />"
   ]
  },
  {
   "cell_type": "code",
   "execution_count": 198,
   "id": "7e570b84",
   "metadata": {},
   "outputs": [],
   "source": [
    "def lang2sql_gemini(api_key, table_name, query, model =\"gemini-2.0-flash\", temperature = 0,max_output_token = 256):\n",
    "    class lang2sql:\n",
    "        def __init__(output, message, response, sql):\n",
    "            output.message = message\n",
    "            output.response = response\n",
    "            output.sql = sql      \n",
    "\n",
    "    client = genai.Client(api_key = api_key)\n",
    "\n",
    "    m = create_message(table_name = table_name, query = query)\n",
    "\n",
    "    prompt = [m.system, m.user]\n",
    "\n",
    "    response = client.models.generate_content(\n",
    "    model=model,\n",
    "    contents= prompt,\n",
    "    config=types.GenerateContentConfig(\n",
    "        max_output_tokens=max_output_token,\n",
    "        temperature=temperature\n",
    "        )\n",
    "    )\n",
    "\n",
    "    sql = response.candidates[0].content.parts[0].text\n",
    "    if is_markdown_code_chunk(text = sql):\n",
    "        sql = extract_code_from_markdown(markdown_text=sql)\n",
    "\n",
    "    output = lang2sql(message = m, response = response, sql = sql)\n",
    "    return output"
   ]
  },
  {
   "cell_type": "markdown",
   "id": "3632ddaf",
   "metadata": {},
   "source": [
    "Let's test it:"
   ]
  },
  {
   "cell_type": "code",
   "execution_count": 199,
   "id": "c2b0bdda",
   "metadata": {},
   "outputs": [],
   "source": [
    "query = lang2sql_gemini(api_key = api_key, \n",
    "                        table_name = \"chicago_crime\", \n",
    "                        query = \"How many cases ended up with arrest?\")"
   ]
  },
  {
   "cell_type": "code",
   "execution_count": 200,
   "id": "7e3f79c9",
   "metadata": {},
   "outputs": [
    {
     "name": "stdout",
     "output_type": "stream",
     "text": [
      "SELECT count(*) FROM chicago_crime WHERE arrest = TRUE\n",
      "┌──────────────┐\n",
      "│ count_star() │\n",
      "│    int64     │\n",
      "├──────────────┤\n",
      "│        79921 │\n",
      "└──────────────┘\n",
      "\n"
     ]
    }
   ],
   "source": [
    "print(query.sql)\n",
    "duckdb.sql(query.sql).show()"
   ]
  },
  {
   "cell_type": "markdown",
   "id": "2123072e",
   "metadata": {},
   "source": [
    "Last but not least, we will set a wrapper function that generate the query and pull the data from the table:\n",
    "<figure>\n",
    " <img src=\"images/architecture 3.png\" width=\"100%\" align=\"center\"/></a>\n",
    "<figcaption> The agent architecture</figcaption>\n",
    "</figure>\n",
    "\n",
    "<br>\n",
    "<br />"
   ]
  },
  {
   "cell_type": "code",
   "execution_count": 201,
   "id": "dd8cb8be",
   "metadata": {},
   "outputs": [],
   "source": [
    "def lang2answer_gemini(api_key, table_name, query, model =\"gemini-2.0-flash\", temperature = 0,max_output_token = 256, verbose = False):\n",
    "    query = lang2sql_gemini(api_key = api_key,\n",
    "                        table_name = table_name,\n",
    "                        query = query, \n",
    "                        model = model,\n",
    "                        temperature = temperature,\n",
    "                        max_output_token = max_output_token\n",
    "                    )\n",
    "    if verbose:\n",
    "        print(query.sql)\n",
    "    output = duckdb.sql(query.sql)\n",
    "    return output"
   ]
  },
  {
   "cell_type": "markdown",
   "id": "abb53ba0",
   "metadata": {},
   "source": [
    "Let's test it out!"
   ]
  },
  {
   "cell_type": "code",
   "execution_count": 202,
   "id": "b454caca",
   "metadata": {},
   "outputs": [
    {
     "name": "stdout",
     "output_type": "stream",
     "text": [
      "SELECT count(*) FROM chicago_crime WHERE arrest = TRUE\n"
     ]
    },
    {
     "data": {
      "text/plain": [
       "┌──────────────┐\n",
       "│ count_star() │\n",
       "│    int64     │\n",
       "├──────────────┤\n",
       "│        79921 │\n",
       "└──────────────┘"
      ]
     },
     "execution_count": 202,
     "metadata": {},
     "output_type": "execute_result"
    }
   ],
   "source": [
    "lang2answer_gemini(api_key = api_key, \n",
    "            table_name = \"chicago_crime\", \n",
    "            query = \"How many cases ended up with arrest?\",\n",
    "            verbose = True)"
   ]
  },
  {
   "cell_type": "code",
   "execution_count": 203,
   "id": "c4fad9d7",
   "metadata": {},
   "outputs": [
    {
     "name": "stdout",
     "output_type": "stream",
     "text": [
      "SELECT primary_type, COUNT(*) AS case_count FROM chicago_crime GROUP BY primary_type;\n"
     ]
    },
    {
     "data": {
      "text/plain": [
       "┌────────────────────────────┬────────────┐\n",
       "│        primary_type        │ case_count │\n",
       "│          varchar           │   int64    │\n",
       "├────────────────────────────┼────────────┤\n",
       "│ WEAPONS VIOLATION          │      18250 │\n",
       "│ ROBBERY                    │      21977 │\n",
       "│ MOTOR VEHICLE THEFT        │      55945 │\n",
       "│ OBSCENITY                  │        116 │\n",
       "│ PUBLIC PEACE VIOLATION     │       2150 │\n",
       "│ CRIMINAL TRESPASS          │      11340 │\n",
       "│ PROSTITUTION               │        567 │\n",
       "│ OFFENSE INVOLVING CHILDREN │       3912 │\n",
       "│ STALKING                   │       1203 │\n",
       "│ OTHER NARCOTIC VIOLATION   │         10 │\n",
       "│    ·                       │          · │\n",
       "│    ·                       │          · │\n",
       "│    ·                       │          · │\n",
       "│ HOMICIDE                   │       1337 │\n",
       "│ NON-CRIMINAL               │          8 │\n",
       "│ LIQUOR LAW VIOLATION       │        453 │\n",
       "│ KIDNAPPING                 │        269 │\n",
       "│ GAMBLING                   │         39 │\n",
       "│ CRIMINAL DAMAGE            │      66227 │\n",
       "│ NARCOTICS                  │      14297 │\n",
       "│ BURGLARY                   │      18314 │\n",
       "│ INTIMIDATION               │        438 │\n",
       "│ ARSON                      │       1122 │\n",
       "├────────────────────────────┴────────────┤\n",
       "│ 31 rows (20 shown)            2 columns │\n",
       "└─────────────────────────────────────────┘"
      ]
     },
     "execution_count": 203,
     "metadata": {},
     "output_type": "execute_result"
    }
   ],
   "source": [
    "lang2answer_gemini(api_key = api_key, \n",
    "            table_name = \"chicago_crime\", \n",
    "            query = \"Summarize the cases by primary type\",\n",
    "            verbose = True)"
   ]
  },
  {
   "cell_type": "code",
   "execution_count": 204,
   "id": "a1da4fcd",
   "metadata": {},
   "outputs": [
    {
     "name": "stdout",
     "output_type": "stream",
     "text": [
      "SELECT primary_type, count(*) AS num_crimes FROM chicago_crime GROUP BY primary_type ORDER BY num_crimes DESC\n"
     ]
    },
    {
     "data": {
      "text/plain": [
       "┌───────────────────────────────────┬────────────┐\n",
       "│           primary_type            │ num_crimes │\n",
       "│              varchar              │   int64    │\n",
       "├───────────────────────────────────┼────────────┤\n",
       "│ THEFT                             │     134807 │\n",
       "│ BATTERY                           │     103019 │\n",
       "│ CRIMINAL DAMAGE                   │      66227 │\n",
       "│ MOTOR VEHICLE THEFT               │      55945 │\n",
       "│ ASSAULT                           │      52618 │\n",
       "│ OTHER OFFENSE                     │      38416 │\n",
       "│ DECEPTIVE PRACTICE                │      37709 │\n",
       "│ ROBBERY                           │      21977 │\n",
       "│ BURGLARY                          │      18314 │\n",
       "│ WEAPONS VIOLATION                 │      18250 │\n",
       "│         ·                         │         ·  │\n",
       "│         ·                         │         ·  │\n",
       "│         ·                         │         ·  │\n",
       "│ CONCEALED CARRY LICENSE VIOLATION │        510 │\n",
       "│ LIQUOR LAW VIOLATION              │        453 │\n",
       "│ INTIMIDATION                      │        438 │\n",
       "│ KIDNAPPING                        │        269 │\n",
       "│ OBSCENITY                         │        116 │\n",
       "│ GAMBLING                          │         39 │\n",
       "│ HUMAN TRAFFICKING                 │         37 │\n",
       "│ PUBLIC INDECENCY                  │         21 │\n",
       "│ OTHER NARCOTIC VIOLATION          │         10 │\n",
       "│ NON-CRIMINAL                      │          8 │\n",
       "├───────────────────────────────────┴────────────┤\n",
       "│ 31 rows (20 shown)                   2 columns │\n",
       "└────────────────────────────────────────────────┘"
      ]
     },
     "execution_count": 204,
     "metadata": {},
     "output_type": "execute_result"
    }
   ],
   "source": [
    "lang2answer_gemini(api_key = api_key, \n",
    "            table_name = \"chicago_crime\", \n",
    "            query = \"Summarize the cases by primary type, sort by number of crimes in descending order\",\n",
    "            verbose = True)"
   ]
  },
  {
   "cell_type": "markdown",
   "id": "95bb2ee2",
   "metadata": {},
   "source": [
    "Here is a case, the LLM provides an incorrect SQL syntax:\n"
   ]
  },
  {
   "cell_type": "code",
   "execution_count": 205,
   "id": "23d93158",
   "metadata": {},
   "outputs": [
    {
     "name": "stdout",
     "output_type": "stream",
     "text": [
      "SELECT count(*) FROM chicago_crime WHERE primary_type = \"ROBBERY\"\n"
     ]
    },
    {
     "ename": "BinderException",
     "evalue": "Binder Error: Referenced column \"ROBBERY\" not found in FROM clause!\nCandidate bindings: \"id\"",
     "output_type": "error",
     "traceback": [
      "\u001b[31m---------------------------------------------------------------------------\u001b[39m",
      "\u001b[31mBinderException\u001b[39m                           Traceback (most recent call last)",
      "\u001b[36mCell\u001b[39m\u001b[36m \u001b[39m\u001b[32mIn[205]\u001b[39m\u001b[32m, line 1\u001b[39m\n\u001b[32m----> \u001b[39m\u001b[32m1\u001b[39m \u001b[43mlang2answer_gemini\u001b[49m\u001b[43m(\u001b[49m\u001b[43mapi_key\u001b[49m\u001b[43m \u001b[49m\u001b[43m=\u001b[49m\u001b[43m \u001b[49m\u001b[43mapi_key\u001b[49m\u001b[43m,\u001b[49m\u001b[43m \u001b[49m\n\u001b[32m      2\u001b[39m \u001b[43m                        \u001b[49m\u001b[43mtable_name\u001b[49m\u001b[43m \u001b[49m\u001b[43m=\u001b[49m\u001b[43m \u001b[49m\u001b[33;43m\"\u001b[39;49m\u001b[33;43mchicago_crime\u001b[39;49m\u001b[33;43m\"\u001b[39;49m\u001b[43m,\u001b[49m\u001b[43m \u001b[49m\n\u001b[32m      3\u001b[39m \u001b[43m                        \u001b[49m\u001b[43mquery\u001b[49m\u001b[43m \u001b[49m\u001b[43m=\u001b[49m\u001b[43m \u001b[49m\u001b[33;43m\"\u001b[39;49m\u001b[33;43mHow many cases is the type of robbery?\u001b[39;49m\u001b[33;43m\"\u001b[39;49m\u001b[43m,\u001b[49m\n\u001b[32m      4\u001b[39m \u001b[43m                        \u001b[49m\u001b[43mverbose\u001b[49m\u001b[43m \u001b[49m\u001b[43m=\u001b[49m\u001b[43m \u001b[49m\u001b[38;5;28;43;01mTrue\u001b[39;49;00m\u001b[43m)\u001b[49m\n",
      "\u001b[36mCell\u001b[39m\u001b[36m \u001b[39m\u001b[32mIn[201]\u001b[39m\u001b[32m, line 11\u001b[39m, in \u001b[36mlang2answer_gemini\u001b[39m\u001b[34m(api_key, table_name, query, model, temperature, max_output_token, verbose)\u001b[39m\n\u001b[32m      9\u001b[39m \u001b[38;5;28;01mif\u001b[39;00m verbose:\n\u001b[32m     10\u001b[39m     \u001b[38;5;28mprint\u001b[39m(query.sql)\n\u001b[32m---> \u001b[39m\u001b[32m11\u001b[39m output = \u001b[43mduckdb\u001b[49m\u001b[43m.\u001b[49m\u001b[43msql\u001b[49m\u001b[43m(\u001b[49m\u001b[43mquery\u001b[49m\u001b[43m.\u001b[49m\u001b[43msql\u001b[49m\u001b[43m)\u001b[49m\n\u001b[32m     12\u001b[39m \u001b[38;5;28;01mreturn\u001b[39;00m output\n",
      "\u001b[31mBinderException\u001b[39m: Binder Error: Referenced column \"ROBBERY\" not found in FROM clause!\nCandidate bindings: \"id\""
     ]
    }
   ],
   "source": [
    "lang2answer_gemini(api_key = api_key, \n",
    "                        table_name = \"chicago_crime\", \n",
    "                        query = \"How many cases is the type of robbery?\",\n",
    "                        verbose = True)"
   ]
  },
  {
   "cell_type": "markdown",
   "id": "092c0b21",
   "metadata": {},
   "source": [
    "The error is due to the use of `\"` instead of `''` for the `ROBBERY` name in the query:"
   ]
  },
  {
   "cell_type": "markdown",
   "id": "11d6c857",
   "metadata": {},
   "source": [
    "```sql\n",
    "SELECT count(*) FROM chicago_crime WHERE primary_type = \"ROBBERY\"\n",
    "```"
   ]
  },
  {
   "cell_type": "markdown",
   "id": "46e2f551",
   "metadata": {},
   "source": [
    "This is the correct query:"
   ]
  },
  {
   "cell_type": "code",
   "execution_count": 207,
   "id": "0ffd9e26",
   "metadata": {},
   "outputs": [
    {
     "name": "stdout",
     "output_type": "stream",
     "text": [
      "┌──────────────┐\n",
      "│ count_star() │\n",
      "│    int64     │\n",
      "├──────────────┤\n",
      "│        21977 │\n",
      "└──────────────┘\n",
      "\n"
     ]
    }
   ],
   "source": [
    "sql = \"SELECT count(*) FROM chicago_crime WHERE primary_type = 'ROBBERY'\"\n",
    "duckdb.sql(sql).show()"
   ]
  },
  {
   "cell_type": "code",
   "execution_count": 208,
   "id": "836aef89",
   "metadata": {},
   "outputs": [
    {
     "name": "stdout",
     "output_type": "stream",
     "text": [
      "SELECT * FROM chicago_crime WHERE primary_type = 'ROBBERY'\n"
     ]
    },
    {
     "data": {
      "text/plain": [
       "┌──────────┬─────────────┬─────────────────────┬────────────────────────┬─────────┬──────────────┬────────────────────────────────────┬──────────────────────┬─────────┬──────────┬───────┬──────────┬────────┬────────────────┬──────────┬──────────────┬──────────────┬───────┬─────────────────────┬──────────────┬───────────────┐\n",
       "│    id    │ case_number │      datetime       │         block          │  iucr   │ primary_type │            description             │ location_description │ arrest  │ domestic │ beat  │ district │  ward  │ community_area │ fbi_code │ x_coordinate │ y_coordinate │ year  │     updated_on      │   latitude   │   longitude   │\n",
       "│  int64   │   varchar   │       varchar       │        varchar         │ varchar │   varchar    │              varchar               │       varchar        │ boolean │ boolean  │ int64 │  int64   │ double │     double     │ varchar  │    double    │    double    │ int64 │    timestamp_ns     │    double    │    double     │\n",
       "├──────────┼─────────────┼─────────────────────┼────────────────────────┼─────────┼──────────────┼────────────────────────────────────┼──────────────────────┼─────────┼──────────┼───────┼──────────┼────────┼────────────────┼──────────┼──────────────┼──────────────┼───────┼─────────────────────┼──────────────┼───────────────┤\n",
       "│ 12938372 │ JG100045    │ 2023-01-01 00:30:00 │ 006XX N CLARK ST       │ 0320    │ ROBBERY      │ STRONG ARM - NO WEAPON             │ STREET               │ false   │ false    │  1832 │       18 │   42.0 │            8.0 │ 03       │    1175432.0 │    1904246.0 │  2023 │ 2023-08-19 15:40:26 │ 41.892628411 │  -87.63115524 │\n",
       "│ 12939981 │ JG101731    │ 2023-01-01 01:00:00 │ 116XX S MICHIGAN AVE   │ 031A    │ ROBBERY      │ ARMED - HANDGUN                    │ GAS STATION          │ false   │ false    │   532 │        5 │    9.0 │           53.0 │ 03       │    1178927.0 │    1827640.0 │  2023 │ 2023-08-19 15:40:26 │ 41.682334926 │ -87.620651734 │\n",
       "│ 12943227 │ JG104671    │ 2023-01-01 01:00:00 │ 005XX S PULASKI RD     │ 0320    │ ROBBERY      │ STRONG ARM - NO WEAPON             │ CTA TRAIN            │ false   │ false    │  1132 │       11 │   24.0 │           26.0 │ 03       │    1149812.0 │    1897228.0 │  2023 │ 2023-08-19 15:40:26 │ 41.873907046 │ -87.725430093 │\n",
       "│ 12938763 │ JG100594    │ 2023-01-01 01:00:00 │ 002XX E CHICAGO AVE    │ 0320    │ ROBBERY      │ STRONG ARM - NO WEAPON             │ SIDEWALK             │ false   │ false    │  1833 │       18 │    2.0 │            8.0 │ 03       │    1177897.0 │    1905774.0 │  2023 │ 2023-08-19 15:40:26 │ 41.896765602 │ -87.622055873 │\n",
       "│ 12940477 │ JG101093    │ 2023-01-01 01:00:00 │ 024XX W 46TH ST        │ 0312    │ ROBBERY      │ ARMED - KNIFE / CUTTING INSTRUMENT │ STREET               │ false   │ false    │   922 │        9 │   15.0 │           58.0 │ 03       │    1160758.0 │    1874106.0 │  2023 │ 2023-08-19 15:40:26 │ 41.810238009 │ -87.685881415 │\n",
       "│ 12939693 │ JG101232    │ 2023-01-01 01:30:00 │ 002XX W ONTARIO ST     │ 0320    │ ROBBERY      │ STRONG ARM - NO WEAPON             │ BAR OR TAVERN        │ false   │ false    │  1831 │       18 │   42.0 │            8.0 │ 03       │    1174477.0 │    1904439.0 │  2023 │ 2023-08-19 15:40:26 │ 41.893179406 │ -87.634656764 │\n",
       "│ 12938465 │ JG100173    │ 2023-01-01 01:53:00 │ 009XX W 69TH ST        │ 0325    │ ROBBERY      │ VEHICULAR HIJACKING                │ STREET               │ false   │ false    │   733 │        7 │   16.0 │           68.0 │ 03       │    1171414.0 │    1859087.0 │  2023 │ 2023-09-03 15:42:05 │ 41.768797245 │ -87.647236204 │\n",
       "│ 12938672 │ JG100453    │ 2023-01-01 02:00:00 │ 0000X S LEAMINGTON AVE │ 0326    │ ROBBERY      │ AGGRAVATED VEHICULAR HIJACKING     │ STREET               │ false   │ false    │  1533 │       15 │   28.0 │           25.0 │ 03       │    1142140.0 │    1899444.0 │  2023 │ 2023-08-19 15:40:26 │  41.88013368 │ -87.753543416 │\n",
       "│ 12939746 │ JG101047    │ 2023-01-01 03:30:00 │ 005XX N STATE ST       │ 0320    │ ROBBERY      │ STRONG ARM - NO WEAPON             │ CTA PLATFORM         │ false   │ false    │  1834 │       18 │   42.0 │            8.0 │ 03       │    1176278.0 │    1903807.0 │  2023 │ 2023-08-19 15:40:26 │ 41.891404732 │ -87.628061509 │\n",
       "│ 12938906 │ JG100574    │ 2023-01-01 11:35:00 │ 099XX S HOXIE AVE      │ 0326    │ ROBBERY      │ AGGRAVATED VEHICULAR HIJACKING     │ STREET               │ false   │ false    │   431 │        4 │    7.0 │           51.0 │ 03       │    1195113.0 │    1839643.0 │  2023 │ 2023-08-19 15:40:26 │ 41.714889705 │ -87.561008339 │\n",
       "│     ·    │    ·        │          ·          │         ·              │  ·      │    ·         │               ·                    │   ·                  │   ·     │   ·      │    ·  │        · │     ·  │             ·  │ ·        │        ·     │        ·     │    ·  │          ·          │       ·      │       ·       │\n",
       "│     ·    │    ·        │          ·          │         ·              │  ·      │    ·         │               ·                    │   ·                  │   ·     │   ·      │    ·  │        · │     ·  │             ·  │ ·        │        ·     │        ·     │    ·  │          ·          │       ·      │       ·       │\n",
       "│     ·    │    ·        │          ·          │         ·              │  ·      │    ·         │               ·                    │   ·                  │   ·     │   ·      │    ·  │        · │     ·  │             ·  │ ·        │        ·     │        ·     │    ·  │          ·          │       ·      │       ·       │\n",
       "│ 13292658 │ JG522129    │ 2023-11-28 16:33:00 │ 016XX S ST LOUIS AVE   │ 0313    │ ROBBERY      │ ARMED - OTHER DANGEROUS WEAPON     │ STREET               │ false   │ false    │  1021 │       10 │   24.0 │           29.0 │ 03       │    1153308.0 │    1891503.0 │  2023 │ 2023-12-06 15:40:46 │ 41.858128349 │ -87.712746304 │\n",
       "│ 13291247 │ JG520923    │ 2023-11-28 16:40:00 │ 034XX N NEENAH AVE     │ 031A    │ ROBBERY      │ ARMED - HANDGUN                    │ STREET               │ false   │ false    │  1632 │       16 │   38.0 │           17.0 │ 03       │    1132105.0 │    1922159.0 │  2023 │ 2023-12-06 15:40:46 │ 41.942646648 │ -87.789862922 │\n",
       "│ 13291249 │ JG521029    │ 2023-11-28 17:38:00 │ 040XX W VAN BUREN ST   │ 031A    │ ROBBERY      │ ARMED - HANDGUN                    │ APARTMENT            │ false   │ false    │  1132 │       11 │   28.0 │           26.0 │ 03       │    1149518.0 │    1897717.0 │  2023 │ 2023-12-06 15:40:46 │ 41.875254627 │ -87.726496837 │\n",
       "│ 13291475 │ JG521076    │ 2023-11-28 17:47:00 │ 041XX W 79TH ST        │ 031A    │ ROBBERY      │ ARMED - HANDGUN                    │ APARTMENT            │ false   │ false    │   834 │        8 │   18.0 │           70.0 │ 03       │    1150135.0 │    1851850.0 │  2023 │ 2023-12-06 15:40:46 │ 41.749377016 │ -87.725422732 │\n",
       "│ 13291308 │ JG521087    │ 2023-11-28 18:20:00 │ 049XX W 47TH ST        │ 031A    │ ROBBERY      │ ARMED - HANDGUN                    │ ALLEY                │ false   │ false    │   814 │        8 │   22.0 │           56.0 │ 03       │    1144232.0 │    1873018.0 │  2023 │ 2023-12-06 15:40:46 │ 41.807578028 │ -87.746524733 │\n",
       "│ 13291326 │ JG521162    │ 2023-11-28 18:30:00 │ 027XX W WELLINGTON AVE │ 031A    │ ROBBERY      │ ARMED - HANDGUN                    │ STREET               │ false   │ false    │  1411 │       14 │   35.0 │           21.0 │ 03       │    1157440.0 │    1919821.0 │  2023 │ 2023-12-06 15:40:46 │ 41.935752485 │ -87.696808051 │\n",
       "│ 13291537 │ JG521164    │ 2023-11-28 19:16:00 │ 006XX N TRUMBULL AVE   │ 031A    │ ROBBERY      │ ARMED - HANDGUN                    │ VEHICLE - COMMERCIAL │ false   │ false    │  1121 │       11 │   27.0 │           23.0 │ 03       │    1153263.0 │    1904129.0 │  2023 │ 2023-12-06 15:40:46 │ 41.892776333 │ -87.712576298 │\n",
       "│ 13291572 │ JG521228    │ 2023-11-28 20:40:00 │ 010XX W POLK ST        │ 031A    │ ROBBERY      │ ARMED - HANDGUN                    │ STREET               │ false   │ false    │  1232 │       12 │   34.0 │           28.0 │ 03       │    1169842.0 │    1896634.0 │  2023 │ 2023-12-06 15:40:46 │ 41.871864246 │ -87.651906886 │\n",
       "│ 13291573 │ JG521231    │ 2023-11-28 21:00:00 │ 015XX E 67TH ST        │ 031A    │ ROBBERY      │ ARMED - HANDGUN                    │ DRUG STORE           │ false   │ false    │   332 │        3 │    5.0 │           43.0 │ 03       │    1187705.0 │    1860871.0 │  2023 │ 2023-12-06 15:40:46 │ 41.773320568 │ -87.587465382 │\n",
       "│ 13291647 │ JG521273    │ 2023-11-28 21:20:00 │ 022XX S STATE ST       │ 031A    │ ROBBERY      │ ARMED - HANDGUN                    │ CTA TRAIN            │ false   │ false    │   131 │        1 │    3.0 │           33.0 │ 03       │    1176662.0 │    1889603.0 │  2023 │ 2023-12-06 15:40:46 │ 41.852419423 │ -87.627080475 │\n",
       "├──────────┴─────────────┴─────────────────────┴────────────────────────┴─────────┴──────────────┴────────────────────────────────────┴──────────────────────┴─────────┴──────────┴───────┴──────────┴────────┴────────────────┴──────────┴──────────────┴──────────────┴───────┴─────────────────────┴──────────────┴───────────────┤\n",
       "│ ? rows (>9999 rows, 20 shown)                                                                                                                                                                                                                                                                                           21 columns │\n",
       "└────────────────────────────────────────────────────────────────────────────────────────────────────────────────────────────────────────────────────────────────────────────────────────────────────────────────────────────────────────────────────────────────────────────────────────────────────────────────────────────────────┘"
      ]
     },
     "execution_count": 208,
     "metadata": {},
     "output_type": "execute_result"
    }
   ],
   "source": [
    "lang2answer_gemini(api_key = api_key, \n",
    "            table_name = \"chicago_crime\", \n",
    "            query = \"Show me cases that are type of robbery\", \n",
    "            verbose=True)"
   ]
  }
 ],
 "metadata": {
  "kernelspec": {
   "display_name": "python-3.11-dev",
   "language": "python",
   "name": "python3"
  },
  "language_info": {
   "codemirror_mode": {
    "name": "ipython",
    "version": 3
   },
   "file_extension": ".py",
   "mimetype": "text/x-python",
   "name": "python",
   "nbconvert_exporter": "python",
   "pygments_lexer": "ipython3",
   "version": "3.11.12"
  }
 },
 "nbformat": 4,
 "nbformat_minor": 5
}
