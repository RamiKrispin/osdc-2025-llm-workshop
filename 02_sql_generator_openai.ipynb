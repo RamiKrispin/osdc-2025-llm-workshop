{
 "cells": [
  {
   "cell_type": "markdown",
   "id": "d7c8bb7a",
   "metadata": {},
   "source": [
    "# Query Data with LLM using OpenAI API\n",
    "\n",
    "In this section, we will review different ways to query data with LLMs using the [OpenAI API](https://platform.openai.com/docs/api-reference/introduction). We will start with basic prompt methods to generate SQL queries and then move on to more advanced prompt techniques. We than fully functionalize the process and build the following three components:\n",
    "- **Create Prompt**: This function takes a user question and returns a prompt\n",
    "- **API handler**: This function sends prompts to the API, returns the response, and parse it to SQL query\n",
    "- **DB handler**: This function takes the query and returns a dataframe \n",
    "\n",
    "\n",
    "<figure>\n",
    " <img src=\"images/architecture.png\" width=\"100%\" align=\"center\"/></a>\n",
    "<figcaption> The agent architecture </figcaption>\n",
    "</figure>\n",
    "\n",
    "<br>\n",
    "<br />\n",
    "\n",
    "To demonstrate the process, we will use the Chicago Crime dataset we pulled earlier from the API and load it into a Pandas dataframe. We will also use the `duckdb` library to query the data using SQL queries.\n",
    "\n",
    "<figure>\n",
    " <img src=\"images/chicago_crime.png\" width=\"100%\" align=\"center\"/></a>\n",
    "<figcaption> The Chicago Crime dataset </figcaption>\n",
    "</figure>\n",
    "\n",
    "<br>\n",
    "<br />"
   ]
  },
  {
   "cell_type": "markdown",
   "id": "5e0d6e97",
   "metadata": {},
   "source": [
    "## Load the Libraries"
   ]
  },
  {
   "cell_type": "code",
   "execution_count": 1,
   "id": "49c72b63",
   "metadata": {},
   "outputs": [],
   "source": [
    "import pandas as pd\n",
    "import duckdb\n",
    "import os\n",
    "from openai import OpenAI"
   ]
  },
  {
   "cell_type": "markdown",
   "id": "dfab387c",
   "metadata": {},
   "source": [
    "## Load the Data\n",
    "\n",
    "We will load the data into a pandas dataframe and reformat some of the table columns:"
   ]
  },
  {
   "cell_type": "code",
   "execution_count": 2,
   "id": "7ed1185c",
   "metadata": {},
   "outputs": [],
   "source": [
    "chicago_crime = pd.read_csv(\"./data/chicago_crime_2023_2025.csv\")\n",
    "chicago_crime[\"updated_on\"] = pd.to_datetime(chicago_crime[\"updated_on\"])\n",
    "chicago_crime[\"x_coordinate\"] = chicago_crime[\"x_coordinate\"].astype(float)\n",
    "chicago_crime[\"y_coordinate\"] = chicago_crime[\"y_coordinate\"].astype(float)\n",
    "chicago_crime[\"latitude\"] = chicago_crime[\"latitude\"].astype(float)\n",
    "chicago_crime[\"longitude\"] = chicago_crime[\"longitude\"].astype(float)\n",
    "chicago_crime[\"year\"]= chicago_crime[\"year\"].astype(int)"
   ]
  },
  {
   "cell_type": "code",
   "execution_count": 3,
   "id": "95fcc921",
   "metadata": {},
   "outputs": [
    {
     "data": {
      "application/vnd.microsoft.datawrangler.viewer.v0+json": {
       "columns": [
        {
         "name": "index",
         "rawType": "int64",
         "type": "integer"
        },
        {
         "name": "id",
         "rawType": "int64",
         "type": "integer"
        },
        {
         "name": "case_number",
         "rawType": "object",
         "type": "string"
        },
        {
         "name": "datetime",
         "rawType": "object",
         "type": "string"
        },
        {
         "name": "block",
         "rawType": "object",
         "type": "string"
        },
        {
         "name": "iucr",
         "rawType": "object",
         "type": "string"
        },
        {
         "name": "primary_type",
         "rawType": "object",
         "type": "string"
        },
        {
         "name": "description",
         "rawType": "object",
         "type": "string"
        },
        {
         "name": "location_description",
         "rawType": "object",
         "type": "string"
        },
        {
         "name": "arrest",
         "rawType": "bool",
         "type": "boolean"
        },
        {
         "name": "domestic",
         "rawType": "bool",
         "type": "boolean"
        },
        {
         "name": "beat",
         "rawType": "int64",
         "type": "integer"
        },
        {
         "name": "district",
         "rawType": "int64",
         "type": "integer"
        },
        {
         "name": "ward",
         "rawType": "float64",
         "type": "float"
        },
        {
         "name": "community_area",
         "rawType": "float64",
         "type": "float"
        },
        {
         "name": "fbi_code",
         "rawType": "object",
         "type": "string"
        },
        {
         "name": "x_coordinate",
         "rawType": "float64",
         "type": "float"
        },
        {
         "name": "y_coordinate",
         "rawType": "float64",
         "type": "float"
        },
        {
         "name": "year",
         "rawType": "int64",
         "type": "integer"
        },
        {
         "name": "updated_on",
         "rawType": "datetime64[ns]",
         "type": "datetime"
        },
        {
         "name": "latitude",
         "rawType": "float64",
         "type": "float"
        },
        {
         "name": "longitude",
         "rawType": "float64",
         "type": "float"
        }
       ],
       "conversionMethod": "pd.DataFrame",
       "ref": "4113632c-1c28-4109-ae89-5edb5b8ed157",
       "rows": [
        [
         "0",
         "13140855",
         "JG341458",
         "2023-01-01 00:00:00",
         "082XX S JEFFERY BLVD",
         "1754",
         "OFFENSE INVOLVING CHILDREN",
         "AGGRAVATED SEXUAL ASSAULT OF CHILD BY FAMILY MEMBER",
         "APARTMENT",
         "False",
         "True",
         "414",
         "4",
         "8.0",
         "46.0",
         "02",
         "1190953.0",
         "1850848.0",
         "2023",
         "2023-09-24 15:41:26",
         "41.745738706",
         "-87.57588269"
        ],
        [
         "1",
         "13180096",
         "JG387858",
         "2023-01-01 00:00:00",
         "075XX S WOLCOTT AVE",
         "1153",
         "DECEPTIVE PRACTICE",
         "FINANCIAL IDENTITY THEFT OVER $ 300",
         "RESIDENCE",
         "False",
         "False",
         "611",
         "6",
         "17.0",
         "71.0",
         "11",
         "1164996.0",
         "1854651.0",
         "2023",
         "2023-08-20 15:40:56",
         "41.756762329",
         "-87.670886691"
        ],
        [
         "2",
         "13168471",
         "JG374193",
         "2023-01-01 00:00:00",
         "013XX W HARRISON ST",
         "0460",
         "BATTERY",
         "SIMPLE",
         "SCHOOL - PUBLIC GROUNDS",
         "False",
         "False",
         "1231",
         "12",
         "34.0",
         "28.0",
         "08B",
         "1167465.0",
         "1897475.0",
         "2023",
         "2023-08-19 15:40:26",
         "41.874223466",
         "-87.660609583"
        ],
        [
         "3",
         "13078152",
         "JG267031",
         "2023-01-01 00:00:00",
         "101XX S BEVERLY AVE",
         "1153",
         "DECEPTIVE PRACTICE",
         "FINANCIAL IDENTITY THEFT OVER $ 300",
         "RESIDENCE",
         "False",
         "False",
         "2213",
         "22",
         "21.0",
         "73.0",
         "11",
         "1168800.0",
         "1837525.0",
         "2023",
         "2023-08-19 15:40:26",
         "41.709684879",
         "-87.657438571"
        ],
        [
         "4",
         "13120699",
         "JG314178",
         "2023-01-01 00:00:00",
         "063XX N FAIRFIELD AVE",
         "1544",
         "SEX OFFENSE",
         "SEXUAL EXPLOITATION OF A CHILD",
         "OTHER (SPECIFY)",
         "False",
         "False",
         "2413",
         "24",
         "50.0",
         "2.0",
         "17",
         "1156847.0",
         "1941985.0",
         "2023",
         "2023-08-19 15:40:26",
         "41.9965838",
         "-87.698383738"
        ]
       ],
       "shape": {
        "columns": 21,
        "rows": 5
       }
      },
      "text/html": [
       "<div>\n",
       "<style scoped>\n",
       "    .dataframe tbody tr th:only-of-type {\n",
       "        vertical-align: middle;\n",
       "    }\n",
       "\n",
       "    .dataframe tbody tr th {\n",
       "        vertical-align: top;\n",
       "    }\n",
       "\n",
       "    .dataframe thead th {\n",
       "        text-align: right;\n",
       "    }\n",
       "</style>\n",
       "<table border=\"1\" class=\"dataframe\">\n",
       "  <thead>\n",
       "    <tr style=\"text-align: right;\">\n",
       "      <th></th>\n",
       "      <th>id</th>\n",
       "      <th>case_number</th>\n",
       "      <th>datetime</th>\n",
       "      <th>block</th>\n",
       "      <th>iucr</th>\n",
       "      <th>primary_type</th>\n",
       "      <th>description</th>\n",
       "      <th>location_description</th>\n",
       "      <th>arrest</th>\n",
       "      <th>domestic</th>\n",
       "      <th>...</th>\n",
       "      <th>district</th>\n",
       "      <th>ward</th>\n",
       "      <th>community_area</th>\n",
       "      <th>fbi_code</th>\n",
       "      <th>x_coordinate</th>\n",
       "      <th>y_coordinate</th>\n",
       "      <th>year</th>\n",
       "      <th>updated_on</th>\n",
       "      <th>latitude</th>\n",
       "      <th>longitude</th>\n",
       "    </tr>\n",
       "  </thead>\n",
       "  <tbody>\n",
       "    <tr>\n",
       "      <th>0</th>\n",
       "      <td>13140855</td>\n",
       "      <td>JG341458</td>\n",
       "      <td>2023-01-01 00:00:00</td>\n",
       "      <td>082XX S JEFFERY BLVD</td>\n",
       "      <td>1754</td>\n",
       "      <td>OFFENSE INVOLVING CHILDREN</td>\n",
       "      <td>AGGRAVATED SEXUAL ASSAULT OF CHILD BY FAMILY M...</td>\n",
       "      <td>APARTMENT</td>\n",
       "      <td>False</td>\n",
       "      <td>True</td>\n",
       "      <td>...</td>\n",
       "      <td>4</td>\n",
       "      <td>8.0</td>\n",
       "      <td>46.0</td>\n",
       "      <td>02</td>\n",
       "      <td>1190953.0</td>\n",
       "      <td>1850848.0</td>\n",
       "      <td>2023</td>\n",
       "      <td>2023-09-24 15:41:26</td>\n",
       "      <td>41.745739</td>\n",
       "      <td>-87.575883</td>\n",
       "    </tr>\n",
       "    <tr>\n",
       "      <th>1</th>\n",
       "      <td>13180096</td>\n",
       "      <td>JG387858</td>\n",
       "      <td>2023-01-01 00:00:00</td>\n",
       "      <td>075XX S WOLCOTT AVE</td>\n",
       "      <td>1153</td>\n",
       "      <td>DECEPTIVE PRACTICE</td>\n",
       "      <td>FINANCIAL IDENTITY THEFT OVER $ 300</td>\n",
       "      <td>RESIDENCE</td>\n",
       "      <td>False</td>\n",
       "      <td>False</td>\n",
       "      <td>...</td>\n",
       "      <td>6</td>\n",
       "      <td>17.0</td>\n",
       "      <td>71.0</td>\n",
       "      <td>11</td>\n",
       "      <td>1164996.0</td>\n",
       "      <td>1854651.0</td>\n",
       "      <td>2023</td>\n",
       "      <td>2023-08-20 15:40:56</td>\n",
       "      <td>41.756762</td>\n",
       "      <td>-87.670887</td>\n",
       "    </tr>\n",
       "    <tr>\n",
       "      <th>2</th>\n",
       "      <td>13168471</td>\n",
       "      <td>JG374193</td>\n",
       "      <td>2023-01-01 00:00:00</td>\n",
       "      <td>013XX W HARRISON ST</td>\n",
       "      <td>0460</td>\n",
       "      <td>BATTERY</td>\n",
       "      <td>SIMPLE</td>\n",
       "      <td>SCHOOL - PUBLIC GROUNDS</td>\n",
       "      <td>False</td>\n",
       "      <td>False</td>\n",
       "      <td>...</td>\n",
       "      <td>12</td>\n",
       "      <td>34.0</td>\n",
       "      <td>28.0</td>\n",
       "      <td>08B</td>\n",
       "      <td>1167465.0</td>\n",
       "      <td>1897475.0</td>\n",
       "      <td>2023</td>\n",
       "      <td>2023-08-19 15:40:26</td>\n",
       "      <td>41.874223</td>\n",
       "      <td>-87.660610</td>\n",
       "    </tr>\n",
       "    <tr>\n",
       "      <th>3</th>\n",
       "      <td>13078152</td>\n",
       "      <td>JG267031</td>\n",
       "      <td>2023-01-01 00:00:00</td>\n",
       "      <td>101XX S BEVERLY AVE</td>\n",
       "      <td>1153</td>\n",
       "      <td>DECEPTIVE PRACTICE</td>\n",
       "      <td>FINANCIAL IDENTITY THEFT OVER $ 300</td>\n",
       "      <td>RESIDENCE</td>\n",
       "      <td>False</td>\n",
       "      <td>False</td>\n",
       "      <td>...</td>\n",
       "      <td>22</td>\n",
       "      <td>21.0</td>\n",
       "      <td>73.0</td>\n",
       "      <td>11</td>\n",
       "      <td>1168800.0</td>\n",
       "      <td>1837525.0</td>\n",
       "      <td>2023</td>\n",
       "      <td>2023-08-19 15:40:26</td>\n",
       "      <td>41.709685</td>\n",
       "      <td>-87.657439</td>\n",
       "    </tr>\n",
       "    <tr>\n",
       "      <th>4</th>\n",
       "      <td>13120699</td>\n",
       "      <td>JG314178</td>\n",
       "      <td>2023-01-01 00:00:00</td>\n",
       "      <td>063XX N FAIRFIELD AVE</td>\n",
       "      <td>1544</td>\n",
       "      <td>SEX OFFENSE</td>\n",
       "      <td>SEXUAL EXPLOITATION OF A CHILD</td>\n",
       "      <td>OTHER (SPECIFY)</td>\n",
       "      <td>False</td>\n",
       "      <td>False</td>\n",
       "      <td>...</td>\n",
       "      <td>24</td>\n",
       "      <td>50.0</td>\n",
       "      <td>2.0</td>\n",
       "      <td>17</td>\n",
       "      <td>1156847.0</td>\n",
       "      <td>1941985.0</td>\n",
       "      <td>2023</td>\n",
       "      <td>2023-08-19 15:40:26</td>\n",
       "      <td>41.996584</td>\n",
       "      <td>-87.698384</td>\n",
       "    </tr>\n",
       "  </tbody>\n",
       "</table>\n",
       "<p>5 rows × 21 columns</p>\n",
       "</div>"
      ],
      "text/plain": [
       "         id case_number             datetime                  block  iucr  \\\n",
       "0  13140855    JG341458  2023-01-01 00:00:00   082XX S JEFFERY BLVD  1754   \n",
       "1  13180096    JG387858  2023-01-01 00:00:00    075XX S WOLCOTT AVE  1153   \n",
       "2  13168471    JG374193  2023-01-01 00:00:00    013XX W HARRISON ST  0460   \n",
       "3  13078152    JG267031  2023-01-01 00:00:00    101XX S BEVERLY AVE  1153   \n",
       "4  13120699    JG314178  2023-01-01 00:00:00  063XX N FAIRFIELD AVE  1544   \n",
       "\n",
       "                 primary_type  \\\n",
       "0  OFFENSE INVOLVING CHILDREN   \n",
       "1          DECEPTIVE PRACTICE   \n",
       "2                     BATTERY   \n",
       "3          DECEPTIVE PRACTICE   \n",
       "4                 SEX OFFENSE   \n",
       "\n",
       "                                         description     location_description  \\\n",
       "0  AGGRAVATED SEXUAL ASSAULT OF CHILD BY FAMILY M...                APARTMENT   \n",
       "1                FINANCIAL IDENTITY THEFT OVER $ 300                RESIDENCE   \n",
       "2                                             SIMPLE  SCHOOL - PUBLIC GROUNDS   \n",
       "3                FINANCIAL IDENTITY THEFT OVER $ 300                RESIDENCE   \n",
       "4                     SEXUAL EXPLOITATION OF A CHILD          OTHER (SPECIFY)   \n",
       "\n",
       "   arrest  domestic  ...  district  ward  community_area  fbi_code  \\\n",
       "0   False      True  ...         4   8.0            46.0        02   \n",
       "1   False     False  ...         6  17.0            71.0        11   \n",
       "2   False     False  ...        12  34.0            28.0       08B   \n",
       "3   False     False  ...        22  21.0            73.0        11   \n",
       "4   False     False  ...        24  50.0             2.0        17   \n",
       "\n",
       "  x_coordinate  y_coordinate  year          updated_on   latitude  longitude  \n",
       "0    1190953.0     1850848.0  2023 2023-09-24 15:41:26  41.745739 -87.575883  \n",
       "1    1164996.0     1854651.0  2023 2023-08-20 15:40:56  41.756762 -87.670887  \n",
       "2    1167465.0     1897475.0  2023 2023-08-19 15:40:26  41.874223 -87.660610  \n",
       "3    1168800.0     1837525.0  2023 2023-08-19 15:40:26  41.709685 -87.657439  \n",
       "4    1156847.0     1941985.0  2023 2023-08-19 15:40:26  41.996584 -87.698384  \n",
       "\n",
       "[5 rows x 21 columns]"
      ]
     },
     "execution_count": 3,
     "metadata": {},
     "output_type": "execute_result"
    }
   ],
   "source": [
    "chicago_crime.head()"
   ]
  },
  {
   "cell_type": "code",
   "execution_count": 4,
   "id": "7522a4f2",
   "metadata": {},
   "outputs": [
    {
     "name": "stdout",
     "output_type": "stream",
     "text": [
      "id                               int64\n",
      "case_number                     object\n",
      "datetime                        object\n",
      "block                           object\n",
      "iucr                            object\n",
      "primary_type                    object\n",
      "description                     object\n",
      "location_description            object\n",
      "arrest                            bool\n",
      "domestic                          bool\n",
      "beat                             int64\n",
      "district                         int64\n",
      "ward                           float64\n",
      "community_area                 float64\n",
      "fbi_code                        object\n",
      "x_coordinate                   float64\n",
      "y_coordinate                   float64\n",
      "year                             int64\n",
      "updated_on              datetime64[ns]\n",
      "latitude                       float64\n",
      "longitude                      float64\n",
      "dtype: object\n"
     ]
    }
   ],
   "source": [
    "print(chicago_crime.dtypes)"
   ]
  },
  {
   "cell_type": "markdown",
   "id": "4b0967a2",
   "metadata": {},
   "source": [
    "## The OpenAI API"
   ]
  },
  {
   "cell_type": "markdown",
   "id": "3055647a",
   "metadata": {},
   "source": [
    "Throughout this workshop, we will use API as the backend LLM for generating the SQL queries. This notebook will show how to use the OpenAI API for generating SQL queries. Let's start by reviewing the functionality of the API.\n",
    "\n",
    "**Note:** The OpenAI API is not free, and you need a paid subscription for using it.\n",
    "\n",
    "### Setting Up API Key\n",
    "\n",
    "To use the OpenAI API, you will have to create an account, register to the API and setup your own key. To register to the API go the [OpenAI API main page](https://platform.openai.com/settings/organization/api-keys), and select the \"API Keys\" on the left menu (marked in yellow)  and click the Create new secret key button on the top right corner (marked in purple):\n",
    "<figure>\n",
    " <img src=\"images/openai_api.png\" width=\"100%\" align=\"center\"/></a>\n",
    "<figcaption> Creating a new API key </figcaption>\n",
    "</figure>\n",
    "\n",
    "<br>\n",
    "<br />\n",
    "\n",
    "You can see in the button of this page the list of existing API keys (marked in green).\n",
    "\n",
    "You should store the API key as an environment variable (for macOS and Linux) by adding the following line to your code to your `zshrc` or `bashrc` file:\n",
    "\n",
    "```bash\n",
    "export OPENAI_API_KEY=\"your_api_key\"\n",
    "```\n",
    "<br>\n",
    "<br />\n",
    "\n",
    "## Getting Started with the OpenAI API\n",
    "\n",
    "Let's start by creating a client object by registering the API key. We will load the environment variable using the `os`'s `environ.get()` method: "
   ]
  },
  {
   "cell_type": "code",
   "execution_count": 5,
   "id": "91e02ac8",
   "metadata": {},
   "outputs": [],
   "source": [
    "api_key = os.environ.get(\"OPENAI_API_KEY\")\n",
    "client = OpenAI(api_key= api_key)"
   ]
  },
  {
   "cell_type": "markdown",
   "id": "97333e04",
   "metadata": {},
   "source": [
    "You can use the `models.list()` method to get the list of available models on the API:"
   ]
  },
  {
   "cell_type": "code",
   "execution_count": 6,
   "id": "84fb725b",
   "metadata": {},
   "outputs": [],
   "source": [
    "models_list = client.models.list()"
   ]
  },
  {
   "cell_type": "code",
   "execution_count": 7,
   "id": "4e2df909",
   "metadata": {},
   "outputs": [
    {
     "data": {
      "application/vnd.microsoft.datawrangler.viewer.v0+json": {
       "columns": [
        {
         "name": "index",
         "rawType": "int64",
         "type": "integer"
        },
        {
         "name": "id",
         "rawType": "object",
         "type": "unknown"
        },
        {
         "name": "created",
         "rawType": "object",
         "type": "unknown"
        },
        {
         "name": "object",
         "rawType": "object",
         "type": "unknown"
        },
        {
         "name": "owned_by",
         "rawType": "object",
         "type": "unknown"
        }
       ],
       "conversionMethod": "pd.DataFrame",
       "ref": "be61cabe-0e64-4ff1-ad00-45f64eee79fd",
       "rows": [
        [
         "0",
         "('id', 'gpt-4o-realtime-preview-2024-12-17')",
         "('created', 1733945430)",
         "('object', 'model')",
         "('owned_by', 'system')"
        ],
        [
         "1",
         "('id', 'gpt-4o-audio-preview-2024-12-17')",
         "('created', 1734034239)",
         "('object', 'model')",
         "('owned_by', 'system')"
        ],
        [
         "2",
         "('id', 'gpt-4-1106-preview')",
         "('created', 1698957206)",
         "('object', 'model')",
         "('owned_by', 'system')"
        ],
        [
         "3",
         "('id', 'dall-e-3')",
         "('created', 1698785189)",
         "('object', 'model')",
         "('owned_by', 'system')"
        ],
        [
         "4",
         "('id', 'dall-e-2')",
         "('created', 1698798177)",
         "('object', 'model')",
         "('owned_by', 'system')"
        ],
        [
         "5",
         "('id', 'gpt-4o-audio-preview-2024-10-01')",
         "('created', 1727389042)",
         "('object', 'model')",
         "('owned_by', 'system')"
        ],
        [
         "6",
         "('id', 'gpt-4-turbo-preview')",
         "('created', 1706037777)",
         "('object', 'model')",
         "('owned_by', 'system')"
        ],
        [
         "7",
         "('id', 'text-embedding-3-small')",
         "('created', 1705948997)",
         "('object', 'model')",
         "('owned_by', 'system')"
        ],
        [
         "8",
         "('id', 'babbage-002')",
         "('created', 1692634615)",
         "('object', 'model')",
         "('owned_by', 'system')"
        ],
        [
         "9",
         "('id', 'gpt-4')",
         "('created', 1687882411)",
         "('object', 'model')",
         "('owned_by', 'openai')"
        ],
        [
         "10",
         "('id', 'text-embedding-ada-002')",
         "('created', 1671217299)",
         "('object', 'model')",
         "('owned_by', 'openai-internal')"
        ],
        [
         "11",
         "('id', 'chatgpt-4o-latest')",
         "('created', 1723515131)",
         "('object', 'model')",
         "('owned_by', 'system')"
        ],
        [
         "12",
         "('id', 'gpt-4o-mini-audio-preview')",
         "('created', 1734387424)",
         "('object', 'model')",
         "('owned_by', 'system')"
        ],
        [
         "13",
         "('id', 'gpt-4o-audio-preview')",
         "('created', 1727460443)",
         "('object', 'model')",
         "('owned_by', 'system')"
        ],
        [
         "14",
         "('id', 'o1-preview-2024-09-12')",
         "('created', 1725648865)",
         "('object', 'model')",
         "('owned_by', 'system')"
        ],
        [
         "15",
         "('id', 'gpt-4o-mini-realtime-preview')",
         "('created', 1734387380)",
         "('object', 'model')",
         "('owned_by', 'system')"
        ],
        [
         "16",
         "('id', 'gpt-4o-mini-realtime-preview-2024-12-17')",
         "('created', 1734112601)",
         "('object', 'model')",
         "('owned_by', 'system')"
        ],
        [
         "17",
         "('id', 'gpt-4.1-nano')",
         "('created', 1744321707)",
         "('object', 'model')",
         "('owned_by', 'system')"
        ],
        [
         "18",
         "('id', 'gpt-3.5-turbo-instruct-0914')",
         "('created', 1694122472)",
         "('object', 'model')",
         "('owned_by', 'system')"
        ],
        [
         "19",
         "('id', 'gpt-4o-mini-search-preview')",
         "('created', 1741391161)",
         "('object', 'model')",
         "('owned_by', 'system')"
        ],
        [
         "20",
         "('id', 'gpt-4.1-nano-2025-04-14')",
         "('created', 1744321025)",
         "('object', 'model')",
         "('owned_by', 'system')"
        ],
        [
         "21",
         "('id', 'gpt-3.5-turbo-16k')",
         "('created', 1683758102)",
         "('object', 'model')",
         "('owned_by', 'openai-internal')"
        ],
        [
         "22",
         "('id', 'gpt-4o-realtime-preview')",
         "('created', 1727659998)",
         "('object', 'model')",
         "('owned_by', 'system')"
        ],
        [
         "23",
         "('id', 'davinci-002')",
         "('created', 1692634301)",
         "('object', 'model')",
         "('owned_by', 'system')"
        ],
        [
         "24",
         "('id', 'gpt-3.5-turbo-1106')",
         "('created', 1698959748)",
         "('object', 'model')",
         "('owned_by', 'system')"
        ],
        [
         "25",
         "('id', 'gpt-4o-search-preview')",
         "('created', 1741388720)",
         "('object', 'model')",
         "('owned_by', 'system')"
        ],
        [
         "26",
         "('id', 'gpt-3.5-turbo-instruct')",
         "('created', 1692901427)",
         "('object', 'model')",
         "('owned_by', 'system')"
        ],
        [
         "27",
         "('id', 'gpt-3.5-turbo')",
         "('created', 1677610602)",
         "('object', 'model')",
         "('owned_by', 'openai')"
        ],
        [
         "28",
         "('id', 'o3-mini-2025-01-31')",
         "('created', 1738010200)",
         "('object', 'model')",
         "('owned_by', 'system')"
        ],
        [
         "29",
         "('id', 'gpt-4o-mini-search-preview-2025-03-11')",
         "('created', 1741390858)",
         "('object', 'model')",
         "('owned_by', 'system')"
        ],
        [
         "30",
         "('id', 'gpt-4-0125-preview')",
         "('created', 1706037612)",
         "('object', 'model')",
         "('owned_by', 'system')"
        ],
        [
         "31",
         "('id', 'gpt-4o-2024-11-20')",
         "('created', 1739331543)",
         "('object', 'model')",
         "('owned_by', 'system')"
        ],
        [
         "32",
         "('id', 'gpt-4o-2024-05-13')",
         "('created', 1715368132)",
         "('object', 'model')",
         "('owned_by', 'system')"
        ],
        [
         "33",
         "('id', 'o1-2024-12-17')",
         "('created', 1734326976)",
         "('object', 'model')",
         "('owned_by', 'system')"
        ],
        [
         "34",
         "('id', 'o1')",
         "('created', 1734375816)",
         "('object', 'model')",
         "('owned_by', 'system')"
        ],
        [
         "35",
         "('id', 'o1-preview')",
         "('created', 1725648897)",
         "('object', 'model')",
         "('owned_by', 'system')"
        ],
        [
         "36",
         "('id', 'gpt-4-0613')",
         "('created', 1686588896)",
         "('object', 'model')",
         "('owned_by', 'openai')"
        ],
        [
         "37",
         "('id', 'o1-mini')",
         "('created', 1725649008)",
         "('object', 'model')",
         "('owned_by', 'system')"
        ],
        [
         "38",
         "('id', 'gpt-4o-mini-tts')",
         "('created', 1742403959)",
         "('object', 'model')",
         "('owned_by', 'system')"
        ],
        [
         "39",
         "('id', 'o1-pro')",
         "('created', 1742251791)",
         "('object', 'model')",
         "('owned_by', 'system')"
        ],
        [
         "40",
         "('id', 'gpt-4o-transcribe')",
         "('created', 1742068463)",
         "('object', 'model')",
         "('owned_by', 'system')"
        ],
        [
         "41",
         "('id', 'gpt-4.5-preview')",
         "('created', 1740623059)",
         "('object', 'model')",
         "('owned_by', 'system')"
        ],
        [
         "42",
         "('id', 'o1-pro-2025-03-19')",
         "('created', 1742251504)",
         "('object', 'model')",
         "('owned_by', 'system')"
        ],
        [
         "43",
         "('id', 'gpt-4.5-preview-2025-02-27')",
         "('created', 1740623304)",
         "('object', 'model')",
         "('owned_by', 'system')"
        ],
        [
         "44",
         "('id', 'gpt-4o-search-preview-2025-03-11')",
         "('created', 1741388170)",
         "('object', 'model')",
         "('owned_by', 'system')"
        ],
        [
         "45",
         "('id', 'omni-moderation-2024-09-26')",
         "('created', 1732734466)",
         "('object', 'model')",
         "('owned_by', 'system')"
        ],
        [
         "46",
         "('id', 'gpt-image-1')",
         "('created', 1745517030)",
         "('object', 'model')",
         "('owned_by', 'system')"
        ],
        [
         "47",
         "('id', 'o1-mini-2024-09-12')",
         "('created', 1725648979)",
         "('object', 'model')",
         "('owned_by', 'system')"
        ],
        [
         "48",
         "('id', 'tts-1-hd')",
         "('created', 1699046015)",
         "('object', 'model')",
         "('owned_by', 'system')"
        ],
        [
         "49",
         "('id', 'gpt-4o')",
         "('created', 1715367049)",
         "('object', 'model')",
         "('owned_by', 'system')"
        ]
       ],
       "shape": {
        "columns": 4,
        "rows": 72
       }
      },
      "text/html": [
       "<div>\n",
       "<style scoped>\n",
       "    .dataframe tbody tr th:only-of-type {\n",
       "        vertical-align: middle;\n",
       "    }\n",
       "\n",
       "    .dataframe tbody tr th {\n",
       "        vertical-align: top;\n",
       "    }\n",
       "\n",
       "    .dataframe thead th {\n",
       "        text-align: right;\n",
       "    }\n",
       "</style>\n",
       "<table border=\"1\" class=\"dataframe\">\n",
       "  <thead>\n",
       "    <tr style=\"text-align: right;\">\n",
       "      <th></th>\n",
       "      <th>id</th>\n",
       "      <th>created</th>\n",
       "      <th>object</th>\n",
       "      <th>owned_by</th>\n",
       "    </tr>\n",
       "  </thead>\n",
       "  <tbody>\n",
       "    <tr>\n",
       "      <th>0</th>\n",
       "      <td>(id, gpt-4o-realtime-preview-2024-12-17)</td>\n",
       "      <td>(created, 1733945430)</td>\n",
       "      <td>(object, model)</td>\n",
       "      <td>(owned_by, system)</td>\n",
       "    </tr>\n",
       "    <tr>\n",
       "      <th>1</th>\n",
       "      <td>(id, gpt-4o-audio-preview-2024-12-17)</td>\n",
       "      <td>(created, 1734034239)</td>\n",
       "      <td>(object, model)</td>\n",
       "      <td>(owned_by, system)</td>\n",
       "    </tr>\n",
       "    <tr>\n",
       "      <th>2</th>\n",
       "      <td>(id, gpt-4-1106-preview)</td>\n",
       "      <td>(created, 1698957206)</td>\n",
       "      <td>(object, model)</td>\n",
       "      <td>(owned_by, system)</td>\n",
       "    </tr>\n",
       "    <tr>\n",
       "      <th>3</th>\n",
       "      <td>(id, dall-e-3)</td>\n",
       "      <td>(created, 1698785189)</td>\n",
       "      <td>(object, model)</td>\n",
       "      <td>(owned_by, system)</td>\n",
       "    </tr>\n",
       "    <tr>\n",
       "      <th>4</th>\n",
       "      <td>(id, dall-e-2)</td>\n",
       "      <td>(created, 1698798177)</td>\n",
       "      <td>(object, model)</td>\n",
       "      <td>(owned_by, system)</td>\n",
       "    </tr>\n",
       "    <tr>\n",
       "      <th>...</th>\n",
       "      <td>...</td>\n",
       "      <td>...</td>\n",
       "      <td>...</td>\n",
       "      <td>...</td>\n",
       "    </tr>\n",
       "    <tr>\n",
       "      <th>67</th>\n",
       "      <td>(id, whisper-1)</td>\n",
       "      <td>(created, 1677532384)</td>\n",
       "      <td>(object, model)</td>\n",
       "      <td>(owned_by, openai-internal)</td>\n",
       "    </tr>\n",
       "    <tr>\n",
       "      <th>68</th>\n",
       "      <td>(id, gpt-4.1-2025-04-14)</td>\n",
       "      <td>(created, 1744315746)</td>\n",
       "      <td>(object, model)</td>\n",
       "      <td>(owned_by, system)</td>\n",
       "    </tr>\n",
       "    <tr>\n",
       "      <th>69</th>\n",
       "      <td>(id, omni-moderation-latest)</td>\n",
       "      <td>(created, 1731689265)</td>\n",
       "      <td>(object, model)</td>\n",
       "      <td>(owned_by, system)</td>\n",
       "    </tr>\n",
       "    <tr>\n",
       "      <th>70</th>\n",
       "      <td>(id, o4-mini-2025-04-16)</td>\n",
       "      <td>(created, 1744133506)</td>\n",
       "      <td>(object, model)</td>\n",
       "      <td>(owned_by, system)</td>\n",
       "    </tr>\n",
       "    <tr>\n",
       "      <th>71</th>\n",
       "      <td>(id, o4-mini)</td>\n",
       "      <td>(created, 1744225351)</td>\n",
       "      <td>(object, model)</td>\n",
       "      <td>(owned_by, system)</td>\n",
       "    </tr>\n",
       "  </tbody>\n",
       "</table>\n",
       "<p>72 rows × 4 columns</p>\n",
       "</div>"
      ],
      "text/plain": [
       "                                          id                created  \\\n",
       "0   (id, gpt-4o-realtime-preview-2024-12-17)  (created, 1733945430)   \n",
       "1      (id, gpt-4o-audio-preview-2024-12-17)  (created, 1734034239)   \n",
       "2                   (id, gpt-4-1106-preview)  (created, 1698957206)   \n",
       "3                             (id, dall-e-3)  (created, 1698785189)   \n",
       "4                             (id, dall-e-2)  (created, 1698798177)   \n",
       "..                                       ...                    ...   \n",
       "67                           (id, whisper-1)  (created, 1677532384)   \n",
       "68                  (id, gpt-4.1-2025-04-14)  (created, 1744315746)   \n",
       "69              (id, omni-moderation-latest)  (created, 1731689265)   \n",
       "70                  (id, o4-mini-2025-04-16)  (created, 1744133506)   \n",
       "71                             (id, o4-mini)  (created, 1744225351)   \n",
       "\n",
       "             object                     owned_by  \n",
       "0   (object, model)           (owned_by, system)  \n",
       "1   (object, model)           (owned_by, system)  \n",
       "2   (object, model)           (owned_by, system)  \n",
       "3   (object, model)           (owned_by, system)  \n",
       "4   (object, model)           (owned_by, system)  \n",
       "..              ...                          ...  \n",
       "67  (object, model)  (owned_by, openai-internal)  \n",
       "68  (object, model)           (owned_by, system)  \n",
       "69  (object, model)           (owned_by, system)  \n",
       "70  (object, model)           (owned_by, system)  \n",
       "71  (object, model)           (owned_by, system)  \n",
       "\n",
       "[72 rows x 4 columns]"
      ]
     },
     "execution_count": 7,
     "metadata": {},
     "output_type": "execute_result"
    }
   ],
   "source": [
    "pd.DataFrame(models_list.data, columns=[\"id\",\"created\", \"object\", \"owned_by\"])"
   ]
  },
  {
   "cell_type": "markdown",
   "id": "f050f02e",
   "metadata": {},
   "source": [
    "We will use the [chat.completions](https://platform.openai.com/docs/api-reference/chat/create) method to send prompts to the API. Here are the key arguments of the function:\n",
    "\n",
    "* `model`: The name of the model to use for generating completions. We will use the `gpt-4.1` model for chat completions.\n",
    "* `messages`: A list of messages that represent the conversation between the user and the model. Each message should have a role (either \"user\" or \"assistant\") and content.\n",
    "* `temperature`: Controls the randomness of the generated text. Higher values result in more random outputs, while lower values result in more deterministic outputs.\n",
    "* `max_tokens`: The maximum number of tokens to generate in the response.\n",
    "\n",
    "Throughout this workshop, to reproduce the same results, we will set the `temperature` argument to 0.\n",
    "\n",
    "We will start with a simplistic prompt, where we are going to provides the model with context and ask it to generate a query. The OpenAPI specification requires us to provide the `messages` argument as a list of dictionaries with two keys: `\"role\"` and `\"content\"`. The `\"role\"` key should have a value of `system` or `user`, or `developer`, while the `\"content\"` key should contain the actual content of the message. `\"user\"` or `\"assistant\"`, while the `\"content\"` key should contain the actual content of the message. We will start by simply define a user role:"
   ]
  },
  {
   "cell_type": "code",
   "execution_count": 8,
   "id": "e92efcc2",
   "metadata": {},
   "outputs": [],
   "source": [
    "user1 = \"\"\"\n",
    "I am working with a dataset that contains information about Chicago crime incidents. \n",
    "I want to create a SQL query to pull the total number of crimes that ended in arrest by a year\n",
    "\"\"\""
   ]
  },
  {
   "cell_type": "code",
   "execution_count": 9,
   "id": "eb9cd00e",
   "metadata": {},
   "outputs": [],
   "source": [
    "response1 = client.chat.completions.create(\n",
    "  model=\"gpt-4.1\",\n",
    "  messages=[\n",
    "         {\"role\": \"user\", \"content\": user1}\n",
    "  ],\n",
    "  temperature= 0, \n",
    "  max_tokens=250\n",
    ")"
   ]
  },
  {
   "cell_type": "markdown",
   "id": "3ad92c34",
   "metadata": {},
   "source": [
    "Let's print the response:"
   ]
  },
  {
   "cell_type": "code",
   "execution_count": 10,
   "id": "ba383193",
   "metadata": {},
   "outputs": [
    {
     "name": "stdout",
     "output_type": "stream",
     "text": [
      "Certainly! Assuming your table is named `chicago_crimes` and has at least the following columns:\n",
      "\n",
      "- `arrest` (a boolean or string indicating if an arrest was made, e.g., `TRUE`/`FALSE` or `'Y'`/`'N'`)\n",
      "- `date` (a date or datetime column indicating when the crime occurred)\n",
      "\n",
      "Here’s a sample SQL query to get the total number of crimes that ended in arrest, grouped by year:\n",
      "\n",
      "```sql\n",
      "SELECT \n",
      "    EXTRACT(YEAR FROM date) AS year,\n",
      "    COUNT(*) AS total_arrests\n",
      "FROM \n",
      "    chicago_crimes\n",
      "WHERE \n",
      "    arrest = TRUE  -- or 'Y' if it's a string\n",
      "GROUP BY \n",
      "    year\n",
      "ORDER BY \n",
      "    year;\n",
      "```\n",
      "\n",
      "**Notes:**\n",
      "- If your `arrest` column is a string (`'Y'`/`'N'`), change `arrest = TRUE` to `arrest = 'Y'`.\n",
      "- If your SQL dialect does not support `EXTRACT(YEAR FROM date)`, you can use `YEAR(date)` (MySQL, SQL Server) or `strftime('%Y', date)` (SQLite).\n",
      "\n",
      "**Example for MySQL:\n"
     ]
    }
   ],
   "source": [
    "print(response1.choices[0].message.content)"
   ]
  },
  {
   "cell_type": "markdown",
   "id": "02b570d5",
   "metadata": {},
   "source": [
    "As you can notice, the model response is generic and due to a lack of context. The model makes some assumptions about the table's column names and their attributes. We can improve this by providing a better context in the next example:"
   ]
  },
  {
   "cell_type": "code",
   "execution_count": 11,
   "id": "94bc289b",
   "metadata": {},
   "outputs": [],
   "source": [
    "user2 = \"\"\"I am working with a dataset that contains information about Chicago crime incidents. \n",
    "        The table name is 'chicago_crime'. I want to create a SQL query to pull the total number of crimes that ended in arrest by a year. \n",
    "        The columns are: id, case_number, date, block, primary_type, description, location_description, arrest, domestic, beat, district, ward, community_area, fbi_code, x_coordinate, y_coordinate, year, updated_on. Please provide the SQL query.\n",
    "        \"\"\""
   ]
  },
  {
   "cell_type": "code",
   "execution_count": 12,
   "id": "81c305a3",
   "metadata": {},
   "outputs": [],
   "source": [
    "response2 = client.chat.completions.create(\n",
    "  model=\"gpt-4.1\",\n",
    "  messages=[\n",
    "         {\"role\": \"user\", \"content\": user2}\n",
    "  ],\n",
    "  temperature= 0, \n",
    "  max_tokens=250\n",
    ")"
   ]
  },
  {
   "cell_type": "code",
   "execution_count": 13,
   "id": "3906f40c",
   "metadata": {},
   "outputs": [
    {
     "name": "stdout",
     "output_type": "stream",
     "text": [
      "Certainly! To get the total number of crimes that ended in arrest by year from your `chicago_crime` table, you can use the following SQL query:\n",
      "\n",
      "```sql\n",
      "SELECT year, COUNT(*) AS total_arrests\n",
      "FROM chicago_crime\n",
      "WHERE arrest = TRUE\n",
      "GROUP BY year\n",
      "ORDER BY year;\n",
      "```\n",
      "\n",
      "**Explanation:**\n",
      "- `WHERE arrest = TRUE` filters only the rows where an arrest was made.\n",
      "- `GROUP BY year` groups the results by the `year` column.\n",
      "- `COUNT(*) AS total_arrests` counts the number of crimes with arrests for each year.\n",
      "- `ORDER BY year` sorts the results by year.\n",
      "\n",
      "If your database uses `'Y'`/`'N'` or `1`/`0` instead of `TRUE`/`FALSE` for the `arrest` column, adjust the `WHERE` clause accordingly:\n",
      "\n",
      "- For `'Y'`/`'N'`: `WHERE arrest = 'Y'`\n",
      "- For `1`/`0`: `WHERE arrest = 1`\n",
      "\n",
      "Let me know if you need the query in a different format!\n"
     ]
    }
   ],
   "source": [
    "print(response2.choices[0].message.content)"
   ]
  },
  {
   "cell_type": "markdown",
   "id": "5a4f50df",
   "metadata": {},
   "source": [
    "Let's copy the SQL code and test it:"
   ]
  },
  {
   "cell_type": "code",
   "execution_count": 14,
   "id": "8db6e2a3",
   "metadata": {},
   "outputs": [],
   "source": [
    "sql = \"\"\"\n",
    "SELECT year, COUNT(*) AS total_arrests\n",
    "FROM chicago_crime\n",
    "WHERE arrest = TRUE\n",
    "GROUP BY year\n",
    "ORDER BY year;\"\"\""
   ]
  },
  {
   "cell_type": "code",
   "execution_count": 15,
   "id": "4f7fc888",
   "metadata": {},
   "outputs": [
    {
     "name": "stdout",
     "output_type": "stream",
     "text": [
      "┌───────┬───────────────┐\n",
      "│ year  │ total_arrests │\n",
      "│ int64 │     int64     │\n",
      "├───────┼───────────────┤\n",
      "│  2023 │         31990 │\n",
      "│  2024 │         35376 │\n",
      "│  2025 │         12555 │\n",
      "└───────┴───────────────┘\n",
      "\n"
     ]
    }
   ],
   "source": [
    "duckdb.sql(sql).show()"
   ]
  },
  {
   "cell_type": "markdown",
   "id": "571e1245",
   "metadata": {},
   "source": [
    "## Setting Templates \n",
    "\n",
    "In this section we will generalize the prompt by setting a prompt template. Starting by setting a dedicated template for the Chicago Crime dataset:"
   ]
  },
  {
   "cell_type": "code",
   "execution_count": 16,
   "id": "d9a6acd4",
   "metadata": {},
   "outputs": [],
   "source": [
    "prompt_template = \"\"\"I am working with a dataset that contains information about Chicago crime incidents. \n",
    "                    The table name is 'chicago_crime'. I want to create a SQL query that answers the following question: \"{}\". \n",
    "                    The columns are: id, case_number, date, block, primary_type, description, location_description, arrest, domestic, beat, district, ward, community_area, fbi_code, x_coordinate, y_coordinate, year, updated_on. Please provide the SQL query.\n",
    "                \"\"\""
   ]
  },
  {
   "cell_type": "code",
   "execution_count": 17,
   "id": "359f3b58",
   "metadata": {},
   "outputs": [],
   "source": [
    "user_question = \"How many cases ended up with arrest during 2024?\"\n",
    "user3 = prompt_template.format(user_question)"
   ]
  },
  {
   "cell_type": "code",
   "execution_count": 18,
   "id": "fd8128ff",
   "metadata": {},
   "outputs": [],
   "source": [
    "response3 =  client.chat.completions.create(\n",
    "  model=\"gpt-4.1\",\n",
    "  messages=[\n",
    "         {\"role\": \"user\", \"content\": user3}\n",
    "  ],\n",
    "  temperature= 0, \n",
    "  max_tokens=250\n",
    ")"
   ]
  },
  {
   "cell_type": "code",
   "execution_count": 19,
   "id": "6b87689a",
   "metadata": {},
   "outputs": [
    {
     "name": "stdout",
     "output_type": "stream",
     "text": [
      "Certainly! To find out **how many cases ended up with arrest during 2024**, you need to count the rows where `arrest` is `TRUE` (or `'true'`/`'Y'` depending on your data type) and `year` is 2024.\n",
      "\n",
      "Assuming `arrest` is a boolean or a value like `'true'`/`'Y'`, here is the SQL query:\n",
      "\n",
      "```sql\n",
      "SELECT COUNT(*) AS arrest_cases_2024\n",
      "FROM chicago_crime\n",
      "WHERE arrest = TRUE\n",
      "  AND year = 2024;\n",
      "```\n",
      "\n",
      "If `arrest` is stored as a string (e.g., `'true'`, `'Y'`, `'Yes'`), adjust accordingly:\n",
      "\n",
      "```sql\n",
      "SELECT COUNT(*) AS arrest_cases_2024\n",
      "FROM chicago_crime\n",
      "WHERE arrest = 'true'\n",
      "  AND year = 2024;\n",
      "```\n",
      "or\n",
      "```sql\n",
      "SELECT COUNT(*) AS arrest_cases_2024\n",
      "FROM chicago_crime\n",
      "WHERE arrest = 'Y'\n",
      "  AND year = 2024;\n",
      "```\n",
      "\n",
      "**Note:**  \n",
      "- If you want to be extra sure, you can also filter by the `date` column if it contains the full\n"
     ]
    }
   ],
   "source": [
    "print(response3.choices[0].message.content)"
   ]
  },
  {
   "cell_type": "markdown",
   "id": "20c03b71",
   "metadata": {},
   "source": [
    "Let's evaluate the query with the `duckdb` `sql` method:"
   ]
  },
  {
   "cell_type": "code",
   "execution_count": 20,
   "id": "56753e43",
   "metadata": {},
   "outputs": [],
   "source": [
    "sql = \"\"\"\n",
    "SELECT COUNT(*) AS arrest_cases_2024\n",
    "FROM chicago_crime\n",
    "WHERE arrest = TRUE\n",
    "  AND year = 2024;\n",
    "  \"\"\""
   ]
  },
  {
   "cell_type": "code",
   "execution_count": 21,
   "id": "bb618a6e",
   "metadata": {},
   "outputs": [
    {
     "name": "stdout",
     "output_type": "stream",
     "text": [
      "┌───────────────────┐\n",
      "│ arrest_cases_2024 │\n",
      "│       int64       │\n",
      "├───────────────────┤\n",
      "│             35376 │\n",
      "└───────────────────┘\n",
      "\n"
     ]
    }
   ],
   "source": [
    "duckdb.sql(sql).show()"
   ]
  },
  {
   "cell_type": "markdown",
   "id": "91bf0fd5",
   "metadata": {},
   "source": [
    "## Generalize the Template\n",
    "\n",
    "Let's now generalize the template that it can be applied on any table. We will split the template into two parts: one for the user and another for the system. The system part will be a prompt that describes the table's structure, while the user part will ask for a query. Here is the system template:"
   ]
  },
  {
   "cell_type": "code",
   "execution_count": 22,
   "id": "e14edb7c",
   "metadata": {},
   "outputs": [],
   "source": [
    "system_template = \"\"\"\n",
    "Given the following SQL table, your job is to write queries given a user’s request. \\n\n",
    "CREATE TABLE {} ({}) \\n\n",
    "\"\"\""
   ]
  },
  {
   "cell_type": "markdown",
   "id": "8f092f1b",
   "metadata": {},
   "source": [
    "Where, we will define the table schema as SQL statement. Likewise, we will define the user template as:"
   ]
  },
  {
   "cell_type": "code",
   "execution_count": 23,
   "id": "89753fb6",
   "metadata": {},
   "outputs": [],
   "source": [
    "user_template = \"Write a SQL query that returns - {}\""
   ]
  },
  {
   "cell_type": "markdown",
   "id": "919f168c",
   "metadata": {},
   "source": [
    "Next, we want to auto generate the table schema the by applying SQL `DESCRIBE` command leveraging `duckdb` SQL execution on the table:"
   ]
  },
  {
   "cell_type": "code",
   "execution_count": 24,
   "id": "118cd352",
   "metadata": {},
   "outputs": [
    {
     "data": {
      "text/plain": [
       "┌──────────────────────┬──────────────┬─────────┬─────────┬─────────┬─────────┐\n",
       "│     column_name      │ column_type  │  null   │   key   │ default │  extra  │\n",
       "│       varchar        │   varchar    │ varchar │ varchar │ varchar │ varchar │\n",
       "├──────────────────────┼──────────────┼─────────┼─────────┼─────────┼─────────┤\n",
       "│ id                   │ BIGINT       │ YES     │ NULL    │ NULL    │ NULL    │\n",
       "│ case_number          │ VARCHAR      │ YES     │ NULL    │ NULL    │ NULL    │\n",
       "│ datetime             │ VARCHAR      │ YES     │ NULL    │ NULL    │ NULL    │\n",
       "│ block                │ VARCHAR      │ YES     │ NULL    │ NULL    │ NULL    │\n",
       "│ iucr                 │ VARCHAR      │ YES     │ NULL    │ NULL    │ NULL    │\n",
       "│ primary_type         │ VARCHAR      │ YES     │ NULL    │ NULL    │ NULL    │\n",
       "│ description          │ VARCHAR      │ YES     │ NULL    │ NULL    │ NULL    │\n",
       "│ location_description │ VARCHAR      │ YES     │ NULL    │ NULL    │ NULL    │\n",
       "│ arrest               │ BOOLEAN      │ YES     │ NULL    │ NULL    │ NULL    │\n",
       "│ domestic             │ BOOLEAN      │ YES     │ NULL    │ NULL    │ NULL    │\n",
       "│ beat                 │ BIGINT       │ YES     │ NULL    │ NULL    │ NULL    │\n",
       "│ district             │ BIGINT       │ YES     │ NULL    │ NULL    │ NULL    │\n",
       "│ ward                 │ DOUBLE       │ YES     │ NULL    │ NULL    │ NULL    │\n",
       "│ community_area       │ DOUBLE       │ YES     │ NULL    │ NULL    │ NULL    │\n",
       "│ fbi_code             │ VARCHAR      │ YES     │ NULL    │ NULL    │ NULL    │\n",
       "│ x_coordinate         │ DOUBLE       │ YES     │ NULL    │ NULL    │ NULL    │\n",
       "│ y_coordinate         │ DOUBLE       │ YES     │ NULL    │ NULL    │ NULL    │\n",
       "│ year                 │ BIGINT       │ YES     │ NULL    │ NULL    │ NULL    │\n",
       "│ updated_on           │ TIMESTAMP_NS │ YES     │ NULL    │ NULL    │ NULL    │\n",
       "│ latitude             │ DOUBLE       │ YES     │ NULL    │ NULL    │ NULL    │\n",
       "│ longitude            │ DOUBLE       │ YES     │ NULL    │ NULL    │ NULL    │\n",
       "├──────────────────────┴──────────────┴─────────┴─────────┴─────────┴─────────┤\n",
       "│ 21 rows                                                           6 columns │\n",
       "└─────────────────────────────────────────────────────────────────────────────┘"
      ]
     },
     "execution_count": 24,
     "metadata": {},
     "output_type": "execute_result"
    }
   ],
   "source": [
    "table_name = \"chicago_crime\" \n",
    "tbl_description = duckdb.sql(\"DESCRIBE SELECT * FROM \" + table_name +  \";\")\n",
    "tbl_description"
   ]
  },
  {
   "cell_type": "markdown",
   "id": "337fdb80",
   "metadata": {},
   "source": [
    "We will parse from the table description the column names and their class:"
   ]
  },
  {
   "cell_type": "code",
   "execution_count": 25,
   "id": "64567132",
   "metadata": {},
   "outputs": [
    {
     "data": {
      "text/plain": [
       "'id BIGINT, case_number VARCHAR, datetime VARCHAR, block VARCHAR, iucr VARCHAR, primary_type VARCHAR, description VARCHAR, location_description VARCHAR, arrest BOOLEAN, domestic BOOLEAN, beat BIGINT, district BIGINT, ward DOUBLE, community_area DOUBLE, fbi_code VARCHAR, x_coordinate DOUBLE, y_coordinate DOUBLE, year BIGINT, updated_on TIMESTAMP_NS, latitude DOUBLE, longitude DOUBLE'"
      ]
     },
     "execution_count": 25,
     "metadata": {},
     "output_type": "execute_result"
    }
   ],
   "source": [
    "col_attr = tbl_description.df()[[\"column_name\", \"column_type\"]]\n",
    "col_attr[\"column_joint\"] = col_attr[\"column_name\"] + \" \" +  col_attr[\"column_type\"]\n",
    "col_names = str(list(col_attr[\"column_joint\"].values)).replace('[', '').replace(']', '').replace('\\'', '')\n",
    "col_names"
   ]
  },
  {
   "cell_type": "markdown",
   "id": "5f9c830f",
   "metadata": {},
   "source": [
    "We can now use it to set the table schema on the system template:"
   ]
  },
  {
   "cell_type": "code",
   "execution_count": 26,
   "id": "29973407",
   "metadata": {},
   "outputs": [
    {
     "name": "stdout",
     "output_type": "stream",
     "text": [
      "\n",
      "Given the following SQL table, your job is to write queries given a user’s request. \n",
      "\n",
      "CREATE TABLE chicago_crime (id BIGINT, case_number VARCHAR, datetime VARCHAR, block VARCHAR, iucr VARCHAR, primary_type VARCHAR, description VARCHAR, location_description VARCHAR, arrest BOOLEAN, domestic BOOLEAN, beat BIGINT, district BIGINT, ward DOUBLE, community_area DOUBLE, fbi_code VARCHAR, x_coordinate DOUBLE, y_coordinate DOUBLE, year BIGINT, updated_on TIMESTAMP_NS, latitude DOUBLE, longitude DOUBLE) \n",
      "\n",
      "\n"
     ]
    }
   ],
   "source": [
    "system = system_template.format(table_name, col_names)\n",
    "print(system)"
   ]
  },
  {
   "cell_type": "markdown",
   "id": "dd0ec00d",
   "metadata": {},
   "source": [
    "Likewise, we will set the user template by adding the question:"
   ]
  },
  {
   "cell_type": "code",
   "execution_count": 27,
   "id": "b4a874c0",
   "metadata": {},
   "outputs": [
    {
     "name": "stdout",
     "output_type": "stream",
     "text": [
      "Write a SQL query that returns - How many cases ended up with arrest during 2024?\n"
     ]
    }
   ],
   "source": [
    "question = \"How many cases ended up with arrest during 2024?\"\n",
    "user = user_template.format(question)\n",
    "print(user)"
   ]
  },
  {
   "cell_type": "markdown",
   "id": "2d6a0525",
   "metadata": {},
   "source": [
    "Let's now set the message's argument by defining system and user roles by using the system and user templates:"
   ]
  },
  {
   "cell_type": "code",
   "execution_count": 28,
   "id": "bfde3b0e",
   "metadata": {},
   "outputs": [],
   "source": [
    "response4 = client.chat.completions.create(\n",
    "  model=\"gpt-4.1\",\n",
    "  messages=[\n",
    "          {\"role\": \"system\", \"content\": system},\n",
    "          {\"role\": \"user\", \"content\": user}\n",
    "  ],\n",
    "  temperature= 0, \n",
    "  max_tokens=150\n",
    ")"
   ]
  },
  {
   "cell_type": "code",
   "execution_count": 29,
   "id": "74454be9",
   "metadata": {},
   "outputs": [
    {
     "name": "stdout",
     "output_type": "stream",
     "text": [
      "```sql\n",
      "SELECT COUNT(*) AS arrest_cases_2024\n",
      "FROM chicago_crime\n",
      "WHERE arrest = TRUE\n",
      "  AND year = 2024;\n",
      "```\n",
      "This query counts the number of cases in 2024 where an arrest was made.\n"
     ]
    }
   ],
   "source": [
    "print(response4.choices[0].message.content)"
   ]
  },
  {
   "cell_type": "markdown",
   "id": "d2b2aa91",
   "metadata": {},
   "source": [
    "Note that the return SQL code comes in markdown code chunk format (e.g., `'''sql`). Let's add to the system prompt the following sentence to ensure that the output is a clean SQL code:\n",
    "```\n",
    " Return just the SQL query as plan text, without additional text.\n",
    "```"
   ]
  },
  {
   "cell_type": "code",
   "execution_count": 30,
   "id": "1b6d43bf",
   "metadata": {},
   "outputs": [],
   "source": [
    "system_template = \"\"\"\n",
    "Given the following SQL table, your job is to write queries given a user’s request.Return just the SQL query as plan text, without additional text and don't use markdown format. \\n\n",
    "CREATE TABLE {} ({}) \\n\n",
    "\"\"\"\n",
    "table_name = \"chicago_crime\"\n",
    "system = system_template.format(table_name, col_names)"
   ]
  },
  {
   "cell_type": "markdown",
   "id": "cfcf77fd",
   "metadata": {},
   "source": [
    "Let's rerun the same question:"
   ]
  },
  {
   "cell_type": "code",
   "execution_count": 31,
   "id": "099c1f19",
   "metadata": {},
   "outputs": [],
   "source": [
    "response5 = client.chat.completions.create(\n",
    "  model=\"gpt-4.1\",\n",
    "  messages=[\n",
    "          {\"role\": \"system\", \"content\": system},\n",
    "          {\"role\": \"user\", \"content\": user}\n",
    "  ],\n",
    "  temperature= 0, \n",
    "  max_tokens=150\n",
    ")"
   ]
  },
  {
   "cell_type": "code",
   "execution_count": 32,
   "id": "ce89d889",
   "metadata": {},
   "outputs": [
    {
     "name": "stdout",
     "output_type": "stream",
     "text": [
      "SELECT COUNT(*) \n",
      "FROM chicago_crime \n",
      "WHERE arrest = TRUE AND year = 2024;\n"
     ]
    }
   ],
   "source": [
    "print(response5.choices[0].message.content)"
   ]
  },
  {
   "cell_type": "markdown",
   "id": "04c08df4",
   "metadata": {},
   "source": [
    "And, as you can see it returned a clean SQL query."
   ]
  },
  {
   "cell_type": "code",
   "execution_count": 33,
   "id": "557c4749",
   "metadata": {},
   "outputs": [
    {
     "name": "stdout",
     "output_type": "stream",
     "text": [
      "┌──────────────┐\n",
      "│ count_star() │\n",
      "│    int64     │\n",
      "├──────────────┤\n",
      "│        35376 │\n",
      "└──────────────┘\n",
      "\n"
     ]
    }
   ],
   "source": [
    "sql = response5.choices[0].message.content\n",
    "duckdb.sql(sql).show()"
   ]
  },
  {
   "cell_type": "markdown",
   "id": "b6810e0c",
   "metadata": {},
   "source": [
    "As we cannot ensure that the model will all ways return the code without the markdown code chunk format, we can use the following two helpers functions that check if the code is within a markdown format and if so, it will parse it and return the clean code:"
   ]
  },
  {
   "cell_type": "code",
   "execution_count": 34,
   "id": "4e2e9e68",
   "metadata": {},
   "outputs": [],
   "source": [
    "import re\n",
    "\n",
    "def is_markdown_code_chunk(text):\n",
    "    \"\"\"\n",
    "    Checks if the given text is in Markdown code chunk format.\n",
    "\n",
    "    Args:\n",
    "        text (str): The text to check.\n",
    "\n",
    "    Returns:\n",
    "        bool: True if the text is in Markdown code chunk format, False otherwise.\n",
    "    \"\"\"\n",
    "    pattern = r\"```[^`]*```\"\n",
    "    return bool(re.search(pattern, text, re.DOTALL))\n",
    "\n",
    "def extract_code_from_markdown(markdown_text):\n",
    "    \"\"\"\n",
    "    Extracts code from a Markdown code chunk.\n",
    "\n",
    "    Args:\n",
    "        markdown_text (str): The Markdown text containing the code chunk.\n",
    "\n",
    "    Returns:\n",
    "        str: The extracted code.\n",
    "    \"\"\"\n",
    "    pattern = r\"```(.*?)\\n(?P<code>.*?)\\n```\"\n",
    "    match = re.search(pattern, markdown_text, re.DOTALL)\n",
    "    if match:\n",
    "        return match.group(\"code\")\n",
    "    else:\n",
    "        return None"
   ]
  },
  {
   "cell_type": "markdown",
   "id": "53fe3191",
   "metadata": {},
   "source": [
    "## Functionalize the Process\n",
    "\n",
    "The last step is to create a function that takes a user question and returns the corresponding data. The `create_message` function set the system and user message (or prompt) template:\n",
    "\n",
    "<figure>\n",
    " <img src=\"images/architecture 1.png\" width=\"100%\" align=\"center\"/></a>\n",
    "<figcaption> The agent architecture</figcaption>\n",
    "</figure>\n",
    "\n",
    "<br>\n",
    "<br />"
   ]
  },
  {
   "cell_type": "code",
   "execution_count": 35,
   "id": "a77681cb",
   "metadata": {},
   "outputs": [],
   "source": [
    "def create_message(table_name, query):\n",
    "\n",
    "    class message:\n",
    "        def __init__(message, system, user, column_names, column_attr):\n",
    "            message.system = system\n",
    "            message.user = user\n",
    "            message.column_names = column_names\n",
    "            message.column_attr = column_attr\n",
    "\n",
    "    \n",
    "    system_template = \"\"\"\n",
    "\n",
    "    Given the following SQL table, your job is to write queries given a user’s request. Return just the SQL query as plan text, without additional text and don't use markdown format. \\n\n",
    "\n",
    "    CREATE TABLE {} ({}) \\n\n",
    "    \"\"\"\n",
    "\n",
    "    user_template = \"Write a SQL query that returns - {}\"\n",
    "    \n",
    "    tbl_describe = duckdb.sql(\"DESCRIBE SELECT * FROM \" + table_name +  \";\")\n",
    "    col_attr = tbl_describe.df()[[\"column_name\", \"column_type\"]]\n",
    "    col_attr[\"column_joint\"] = col_attr[\"column_name\"] + \" \" +  col_attr[\"column_type\"]\n",
    "    col_names = str(list(col_attr[\"column_joint\"].values)).replace('[', '').replace(']', '').replace('\\'', '')\n",
    "\n",
    "    system = system_template.format(table_name, col_names)\n",
    "    user = user_template.format(query)\n",
    "\n",
    "    m = message(system = system, user = user, column_names = col_attr[\"column_name\"], column_attr = col_attr[\"column_type\"])\n",
    "    return m"
   ]
  },
  {
   "cell_type": "markdown",
   "id": "a5517b98",
   "metadata": {},
   "source": [
    "Let's test it:"
   ]
  },
  {
   "cell_type": "code",
   "execution_count": 36,
   "id": "e0c20217",
   "metadata": {},
   "outputs": [],
   "source": [
    "query = \"How many cases ended up with arrest?\"\n",
    "msg = create_message(table_name = \"chicago_crime\", query = query)"
   ]
  },
  {
   "cell_type": "code",
   "execution_count": 37,
   "id": "f26469e8",
   "metadata": {},
   "outputs": [
    {
     "data": {
      "text/plain": [
       "\"\\n\\n    Given the following SQL table, your job is to write queries given a user’s request. Return just the SQL query as plan text, without additional text and don't use markdown format. \\n\\n\\n    CREATE TABLE chicago_crime (id BIGINT, case_number VARCHAR, datetime VARCHAR, block VARCHAR, iucr VARCHAR, primary_type VARCHAR, description VARCHAR, location_description VARCHAR, arrest BOOLEAN, domestic BOOLEAN, beat BIGINT, district BIGINT, ward DOUBLE, community_area DOUBLE, fbi_code VARCHAR, x_coordinate DOUBLE, y_coordinate DOUBLE, year BIGINT, updated_on TIMESTAMP_NS, latitude DOUBLE, longitude DOUBLE) \\n\\n    \""
      ]
     },
     "execution_count": 37,
     "metadata": {},
     "output_type": "execute_result"
    }
   ],
   "source": [
    "msg.system"
   ]
  },
  {
   "cell_type": "code",
   "execution_count": 38,
   "id": "a1130b85",
   "metadata": {},
   "outputs": [],
   "source": [
    "message = [\n",
    "    {\n",
    "      \"role\": \"system\",\n",
    "      \"content\": msg.system\n",
    "    },\n",
    "    {\n",
    "      \"role\": \"user\",\n",
    "      \"content\": msg.user\n",
    "    }\n",
    "    ]\n"
   ]
  },
  {
   "cell_type": "markdown",
   "id": "dedb661d",
   "metadata": {},
   "source": []
  },
  {
   "cell_type": "code",
   "execution_count": 39,
   "id": "7ada6df1",
   "metadata": {},
   "outputs": [
    {
     "name": "stdout",
     "output_type": "stream",
     "text": [
      "SELECT COUNT(*) AS arrest_count FROM chicago_crime WHERE arrest = TRUE;\n"
     ]
    }
   ],
   "source": [
    "response6 = client.chat.completions.create(\n",
    "  model=\"gpt-4.1\",\n",
    "  messages=message,\n",
    "  temperature= 0, \n",
    "  max_tokens=150\n",
    ")\n",
    "\n",
    "print(response6.choices[0].message.content)"
   ]
  },
  {
   "cell_type": "markdown",
   "id": "7e023e1f",
   "metadata": {},
   "source": [
    "The next step is to set a function that send the prompt to the API (i.e., API handler). In this case, we will set the function to work with the Gemini API:\n",
    "\n",
    "<figure>\n",
    " <img src=\"images/architecture 2.png\" width=\"100%\" align=\"center\"/></a>\n",
    "<figcaption> The agent architecture</figcaption>\n",
    "</figure>\n",
    "\n",
    "<br>\n",
    "<br />"
   ]
  },
  {
   "cell_type": "code",
   "execution_count": 40,
   "id": "2307ddb9",
   "metadata": {},
   "outputs": [],
   "source": [
    "def lang2sql_openai(api_key, table_name, query, model =\"gpt-4.1\", temperature = 0, max_tokens = 256, frequency_penalty = 0,presence_penalty= 0):\n",
    "    class lang2sql:\n",
    "        def __init__(output, message, response, sql):\n",
    "            output.message = message\n",
    "            output.response = response\n",
    "            output.sql = sql      \n",
    "\n",
    "    client = OpenAI(\n",
    "    api_key=api_key,\n",
    "    )\n",
    "\n",
    "    m = create_message(table_name = table_name, query = query)\n",
    "\n",
    "    message = [\n",
    "    {\n",
    "      \"role\": \"system\",\n",
    "      \"content\": m.system\n",
    "    },\n",
    "    {\n",
    "      \"role\": \"user\",\n",
    "      \"content\": m.user\n",
    "    }\n",
    "    ]\n",
    "\n",
    "    response = client.chat.completions.create(\n",
    "        model=model,\n",
    "        messages=message,\n",
    "        temperature= temperature, \n",
    "        max_tokens=max_tokens,\n",
    "        frequency_penalty = frequency_penalty,\n",
    "        presence_penalty = presence_penalty\n",
    "    )\n",
    "\n",
    "    sql = response.choices[0].message.content\n",
    "\n",
    "    output = lang2sql(message = m, response = response, sql = sql)\n",
    "    return output"
   ]
  },
  {
   "cell_type": "markdown",
   "id": "b578828c",
   "metadata": {},
   "source": [
    "The function returns a clean SQL query:"
   ]
  },
  {
   "cell_type": "code",
   "execution_count": 41,
   "id": "6b9edccd",
   "metadata": {},
   "outputs": [],
   "source": [
    "query = lang2sql_openai(api_key = api_key, \n",
    "                    table_name = \"chicago_crime\", \n",
    "                    query = \"How many cases ended up with arrest?\")"
   ]
  },
  {
   "cell_type": "code",
   "execution_count": 42,
   "id": "2c9ee8b7",
   "metadata": {},
   "outputs": [
    {
     "name": "stdout",
     "output_type": "stream",
     "text": [
      "SELECT COUNT(*) AS arrest_count FROM chicago_crime WHERE arrest = TRUE;\n",
      "┌──────────────┐\n",
      "│ arrest_count │\n",
      "│    int64     │\n",
      "├──────────────┤\n",
      "│        79921 │\n",
      "└──────────────┘\n",
      "\n"
     ]
    }
   ],
   "source": [
    "print(query.sql)\n",
    "\n",
    "duckdb.sql(query.sql).show()"
   ]
  },
  {
   "cell_type": "markdown",
   "id": "a412342b",
   "metadata": {},
   "source": [
    "Last but not least, we will set a wrapper function that generate the query and pull the data from the table:\n",
    "<figure>\n",
    " <img src=\"images/architecture 3.png\" width=\"100%\" align=\"center\"/></a>\n",
    "<figcaption> The agent architecture</figcaption>\n",
    "</figure>\n",
    "\n",
    "<br>\n",
    "<br />"
   ]
  },
  {
   "cell_type": "code",
   "execution_count": 43,
   "id": "f7b1cc66",
   "metadata": {},
   "outputs": [],
   "source": [
    "def lang2answer_openai(api_key, table_name, query, model =\"gpt-4.1\", temperature = 0, max_tokens = 256, frequency_penalty = 0,presence_penalty= 0, verbose=False):\n",
    "    query = lang2sql_openai(api_key = api_key,\n",
    "                    table_name = table_name,\n",
    "                    query = query, \n",
    "                    model = model,\n",
    "                    temperature = temperature,\n",
    "                    max_tokens = max_tokens,\n",
    "                    frequency_penalty = frequency_penalty,\n",
    "                    presence_penalty = presence_penalty\n",
    "                    )\n",
    "    if verbose:\n",
    "        print(query.sql)\n",
    "    output = duckdb.sql(query.sql)\n",
    "    return output\n",
    "    \n"
   ]
  },
  {
   "cell_type": "markdown",
   "id": "743eb03e",
   "metadata": {},
   "source": [
    "Let's test it out!"
   ]
  },
  {
   "cell_type": "code",
   "execution_count": 44,
   "id": "08629fc2",
   "metadata": {},
   "outputs": [
    {
     "name": "stdout",
     "output_type": "stream",
     "text": [
      "SELECT COUNT(*) AS arrest_count FROM chicago_crime WHERE arrest = TRUE;\n"
     ]
    },
    {
     "data": {
      "text/plain": [
       "┌──────────────┐\n",
       "│ arrest_count │\n",
       "│    int64     │\n",
       "├──────────────┤\n",
       "│        79921 │\n",
       "└──────────────┘"
      ]
     },
     "execution_count": 44,
     "metadata": {},
     "output_type": "execute_result"
    }
   ],
   "source": [
    "lang2answer_openai(api_key = api_key, \n",
    "            table_name = \"chicago_crime\", \n",
    "            query = \"How many cases ended up with arrest?\",\n",
    "            verbose=True)"
   ]
  },
  {
   "cell_type": "code",
   "execution_count": 45,
   "id": "490048b4",
   "metadata": {},
   "outputs": [
    {
     "name": "stdout",
     "output_type": "stream",
     "text": [
      "SELECT primary_type, COUNT(*) AS case_count\n",
      "FROM chicago_crime\n",
      "GROUP BY primary_type\n",
      "ORDER BY case_count DESC\n"
     ]
    },
    {
     "data": {
      "text/plain": [
       "┌───────────────────────────────────┬────────────┐\n",
       "│           primary_type            │ case_count │\n",
       "│              varchar              │   int64    │\n",
       "├───────────────────────────────────┼────────────┤\n",
       "│ THEFT                             │     134807 │\n",
       "│ BATTERY                           │     103019 │\n",
       "│ CRIMINAL DAMAGE                   │      66227 │\n",
       "│ MOTOR VEHICLE THEFT               │      55945 │\n",
       "│ ASSAULT                           │      52618 │\n",
       "│ OTHER OFFENSE                     │      38416 │\n",
       "│ DECEPTIVE PRACTICE                │      37709 │\n",
       "│ ROBBERY                           │      21977 │\n",
       "│ BURGLARY                          │      18314 │\n",
       "│ WEAPONS VIOLATION                 │      18250 │\n",
       "│         ·                         │         ·  │\n",
       "│         ·                         │         ·  │\n",
       "│         ·                         │         ·  │\n",
       "│ CONCEALED CARRY LICENSE VIOLATION │        510 │\n",
       "│ LIQUOR LAW VIOLATION              │        453 │\n",
       "│ INTIMIDATION                      │        438 │\n",
       "│ KIDNAPPING                        │        269 │\n",
       "│ OBSCENITY                         │        116 │\n",
       "│ GAMBLING                          │         39 │\n",
       "│ HUMAN TRAFFICKING                 │         37 │\n",
       "│ PUBLIC INDECENCY                  │         21 │\n",
       "│ OTHER NARCOTIC VIOLATION          │         10 │\n",
       "│ NON-CRIMINAL                      │          8 │\n",
       "├───────────────────────────────────┴────────────┤\n",
       "│ 31 rows (20 shown)                   2 columns │\n",
       "└────────────────────────────────────────────────┘"
      ]
     },
     "execution_count": 45,
     "metadata": {},
     "output_type": "execute_result"
    }
   ],
   "source": [
    "lang2answer_openai(api_key = api_key, \n",
    "            table_name = \"chicago_crime\", \n",
    "            query = \"Summarize the cases by primary type\",\n",
    "            verbose=True)"
   ]
  },
  {
   "cell_type": "code",
   "execution_count": 46,
   "id": "addce266",
   "metadata": {},
   "outputs": [
    {
     "name": "stdout",
     "output_type": "stream",
     "text": [
      "SELECT COUNT(*) FROM chicago_crime WHERE primary_type = 'ROBBERY'\n"
     ]
    },
    {
     "data": {
      "text/plain": [
       "┌──────────────┐\n",
       "│ count_star() │\n",
       "│    int64     │\n",
       "├──────────────┤\n",
       "│        21977 │\n",
       "└──────────────┘"
      ]
     },
     "execution_count": 46,
     "metadata": {},
     "output_type": "execute_result"
    }
   ],
   "source": [
    "lang2answer_openai(api_key = api_key, \n",
    "            table_name = \"chicago_crime\", \n",
    "            query = \"How many cases is the type of robbery?\",\n",
    "            verbose=True)"
   ]
  },
  {
   "cell_type": "code",
   "execution_count": 47,
   "id": "38131464",
   "metadata": {},
   "outputs": [
    {
     "name": "stdout",
     "output_type": "stream",
     "text": [
      "SELECT * FROM chicago_crime WHERE primary_type = 'ROBBERY'\n"
     ]
    },
    {
     "data": {
      "text/plain": [
       "┌──────────┬─────────────┬─────────────────────┬────────────────────────┬─────────┬──────────────┬────────────────────────────────────┬──────────────────────┬─────────┬──────────┬───────┬──────────┬────────┬────────────────┬──────────┬──────────────┬──────────────┬───────┬─────────────────────┬──────────────┬───────────────┐\n",
       "│    id    │ case_number │      datetime       │         block          │  iucr   │ primary_type │            description             │ location_description │ arrest  │ domestic │ beat  │ district │  ward  │ community_area │ fbi_code │ x_coordinate │ y_coordinate │ year  │     updated_on      │   latitude   │   longitude   │\n",
       "│  int64   │   varchar   │       varchar       │        varchar         │ varchar │   varchar    │              varchar               │       varchar        │ boolean │ boolean  │ int64 │  int64   │ double │     double     │ varchar  │    double    │    double    │ int64 │    timestamp_ns     │    double    │    double     │\n",
       "├──────────┼─────────────┼─────────────────────┼────────────────────────┼─────────┼──────────────┼────────────────────────────────────┼──────────────────────┼─────────┼──────────┼───────┼──────────┼────────┼────────────────┼──────────┼──────────────┼──────────────┼───────┼─────────────────────┼──────────────┼───────────────┤\n",
       "│ 12938372 │ JG100045    │ 2023-01-01 00:30:00 │ 006XX N CLARK ST       │ 0320    │ ROBBERY      │ STRONG ARM - NO WEAPON             │ STREET               │ false   │ false    │  1832 │       18 │   42.0 │            8.0 │ 03       │    1175432.0 │    1904246.0 │  2023 │ 2023-08-19 15:40:26 │ 41.892628411 │  -87.63115524 │\n",
       "│ 12939981 │ JG101731    │ 2023-01-01 01:00:00 │ 116XX S MICHIGAN AVE   │ 031A    │ ROBBERY      │ ARMED - HANDGUN                    │ GAS STATION          │ false   │ false    │   532 │        5 │    9.0 │           53.0 │ 03       │    1178927.0 │    1827640.0 │  2023 │ 2023-08-19 15:40:26 │ 41.682334926 │ -87.620651734 │\n",
       "│ 12943227 │ JG104671    │ 2023-01-01 01:00:00 │ 005XX S PULASKI RD     │ 0320    │ ROBBERY      │ STRONG ARM - NO WEAPON             │ CTA TRAIN            │ false   │ false    │  1132 │       11 │   24.0 │           26.0 │ 03       │    1149812.0 │    1897228.0 │  2023 │ 2023-08-19 15:40:26 │ 41.873907046 │ -87.725430093 │\n",
       "│ 12938763 │ JG100594    │ 2023-01-01 01:00:00 │ 002XX E CHICAGO AVE    │ 0320    │ ROBBERY      │ STRONG ARM - NO WEAPON             │ SIDEWALK             │ false   │ false    │  1833 │       18 │    2.0 │            8.0 │ 03       │    1177897.0 │    1905774.0 │  2023 │ 2023-08-19 15:40:26 │ 41.896765602 │ -87.622055873 │\n",
       "│ 12940477 │ JG101093    │ 2023-01-01 01:00:00 │ 024XX W 46TH ST        │ 0312    │ ROBBERY      │ ARMED - KNIFE / CUTTING INSTRUMENT │ STREET               │ false   │ false    │   922 │        9 │   15.0 │           58.0 │ 03       │    1160758.0 │    1874106.0 │  2023 │ 2023-08-19 15:40:26 │ 41.810238009 │ -87.685881415 │\n",
       "│ 12939693 │ JG101232    │ 2023-01-01 01:30:00 │ 002XX W ONTARIO ST     │ 0320    │ ROBBERY      │ STRONG ARM - NO WEAPON             │ BAR OR TAVERN        │ false   │ false    │  1831 │       18 │   42.0 │            8.0 │ 03       │    1174477.0 │    1904439.0 │  2023 │ 2023-08-19 15:40:26 │ 41.893179406 │ -87.634656764 │\n",
       "│ 12938465 │ JG100173    │ 2023-01-01 01:53:00 │ 009XX W 69TH ST        │ 0325    │ ROBBERY      │ VEHICULAR HIJACKING                │ STREET               │ false   │ false    │   733 │        7 │   16.0 │           68.0 │ 03       │    1171414.0 │    1859087.0 │  2023 │ 2023-09-03 15:42:05 │ 41.768797245 │ -87.647236204 │\n",
       "│ 12938672 │ JG100453    │ 2023-01-01 02:00:00 │ 0000X S LEAMINGTON AVE │ 0326    │ ROBBERY      │ AGGRAVATED VEHICULAR HIJACKING     │ STREET               │ false   │ false    │  1533 │       15 │   28.0 │           25.0 │ 03       │    1142140.0 │    1899444.0 │  2023 │ 2023-08-19 15:40:26 │  41.88013368 │ -87.753543416 │\n",
       "│ 12939746 │ JG101047    │ 2023-01-01 03:30:00 │ 005XX N STATE ST       │ 0320    │ ROBBERY      │ STRONG ARM - NO WEAPON             │ CTA PLATFORM         │ false   │ false    │  1834 │       18 │   42.0 │            8.0 │ 03       │    1176278.0 │    1903807.0 │  2023 │ 2023-08-19 15:40:26 │ 41.891404732 │ -87.628061509 │\n",
       "│ 12938906 │ JG100574    │ 2023-01-01 11:35:00 │ 099XX S HOXIE AVE      │ 0326    │ ROBBERY      │ AGGRAVATED VEHICULAR HIJACKING     │ STREET               │ false   │ false    │   431 │        4 │    7.0 │           51.0 │ 03       │    1195113.0 │    1839643.0 │  2023 │ 2023-08-19 15:40:26 │ 41.714889705 │ -87.561008339 │\n",
       "│     ·    │    ·        │          ·          │         ·              │  ·      │    ·         │               ·                    │   ·                  │   ·     │   ·      │    ·  │        · │     ·  │             ·  │ ·        │        ·     │        ·     │    ·  │          ·          │       ·      │       ·       │\n",
       "│     ·    │    ·        │          ·          │         ·              │  ·      │    ·         │               ·                    │   ·                  │   ·     │   ·      │    ·  │        · │     ·  │             ·  │ ·        │        ·     │        ·     │    ·  │          ·          │       ·      │       ·       │\n",
       "│     ·    │    ·        │          ·          │         ·              │  ·      │    ·         │               ·                    │   ·                  │   ·     │   ·      │    ·  │        · │     ·  │             ·  │ ·        │        ·     │        ·     │    ·  │          ·          │       ·      │       ·       │\n",
       "│ 13292658 │ JG522129    │ 2023-11-28 16:33:00 │ 016XX S ST LOUIS AVE   │ 0313    │ ROBBERY      │ ARMED - OTHER DANGEROUS WEAPON     │ STREET               │ false   │ false    │  1021 │       10 │   24.0 │           29.0 │ 03       │    1153308.0 │    1891503.0 │  2023 │ 2023-12-06 15:40:46 │ 41.858128349 │ -87.712746304 │\n",
       "│ 13291247 │ JG520923    │ 2023-11-28 16:40:00 │ 034XX N NEENAH AVE     │ 031A    │ ROBBERY      │ ARMED - HANDGUN                    │ STREET               │ false   │ false    │  1632 │       16 │   38.0 │           17.0 │ 03       │    1132105.0 │    1922159.0 │  2023 │ 2023-12-06 15:40:46 │ 41.942646648 │ -87.789862922 │\n",
       "│ 13291249 │ JG521029    │ 2023-11-28 17:38:00 │ 040XX W VAN BUREN ST   │ 031A    │ ROBBERY      │ ARMED - HANDGUN                    │ APARTMENT            │ false   │ false    │  1132 │       11 │   28.0 │           26.0 │ 03       │    1149518.0 │    1897717.0 │  2023 │ 2023-12-06 15:40:46 │ 41.875254627 │ -87.726496837 │\n",
       "│ 13291475 │ JG521076    │ 2023-11-28 17:47:00 │ 041XX W 79TH ST        │ 031A    │ ROBBERY      │ ARMED - HANDGUN                    │ APARTMENT            │ false   │ false    │   834 │        8 │   18.0 │           70.0 │ 03       │    1150135.0 │    1851850.0 │  2023 │ 2023-12-06 15:40:46 │ 41.749377016 │ -87.725422732 │\n",
       "│ 13291308 │ JG521087    │ 2023-11-28 18:20:00 │ 049XX W 47TH ST        │ 031A    │ ROBBERY      │ ARMED - HANDGUN                    │ ALLEY                │ false   │ false    │   814 │        8 │   22.0 │           56.0 │ 03       │    1144232.0 │    1873018.0 │  2023 │ 2023-12-06 15:40:46 │ 41.807578028 │ -87.746524733 │\n",
       "│ 13291326 │ JG521162    │ 2023-11-28 18:30:00 │ 027XX W WELLINGTON AVE │ 031A    │ ROBBERY      │ ARMED - HANDGUN                    │ STREET               │ false   │ false    │  1411 │       14 │   35.0 │           21.0 │ 03       │    1157440.0 │    1919821.0 │  2023 │ 2023-12-06 15:40:46 │ 41.935752485 │ -87.696808051 │\n",
       "│ 13291537 │ JG521164    │ 2023-11-28 19:16:00 │ 006XX N TRUMBULL AVE   │ 031A    │ ROBBERY      │ ARMED - HANDGUN                    │ VEHICLE - COMMERCIAL │ false   │ false    │  1121 │       11 │   27.0 │           23.0 │ 03       │    1153263.0 │    1904129.0 │  2023 │ 2023-12-06 15:40:46 │ 41.892776333 │ -87.712576298 │\n",
       "│ 13291572 │ JG521228    │ 2023-11-28 20:40:00 │ 010XX W POLK ST        │ 031A    │ ROBBERY      │ ARMED - HANDGUN                    │ STREET               │ false   │ false    │  1232 │       12 │   34.0 │           28.0 │ 03       │    1169842.0 │    1896634.0 │  2023 │ 2023-12-06 15:40:46 │ 41.871864246 │ -87.651906886 │\n",
       "│ 13291573 │ JG521231    │ 2023-11-28 21:00:00 │ 015XX E 67TH ST        │ 031A    │ ROBBERY      │ ARMED - HANDGUN                    │ DRUG STORE           │ false   │ false    │   332 │        3 │    5.0 │           43.0 │ 03       │    1187705.0 │    1860871.0 │  2023 │ 2023-12-06 15:40:46 │ 41.773320568 │ -87.587465382 │\n",
       "│ 13291647 │ JG521273    │ 2023-11-28 21:20:00 │ 022XX S STATE ST       │ 031A    │ ROBBERY      │ ARMED - HANDGUN                    │ CTA TRAIN            │ false   │ false    │   131 │        1 │    3.0 │           33.0 │ 03       │    1176662.0 │    1889603.0 │  2023 │ 2023-12-06 15:40:46 │ 41.852419423 │ -87.627080475 │\n",
       "├──────────┴─────────────┴─────────────────────┴────────────────────────┴─────────┴──────────────┴────────────────────────────────────┴──────────────────────┴─────────┴──────────┴───────┴──────────┴────────┴────────────────┴──────────┴──────────────┴──────────────┴───────┴─────────────────────┴──────────────┴───────────────┤\n",
       "│ ? rows (>9999 rows, 20 shown)                                                                                                                                                                                                                                                                                           21 columns │\n",
       "└────────────────────────────────────────────────────────────────────────────────────────────────────────────────────────────────────────────────────────────────────────────────────────────────────────────────────────────────────────────────────────────────────────────────────────────────────────────────────────────────────┘"
      ]
     },
     "execution_count": 47,
     "metadata": {},
     "output_type": "execute_result"
    }
   ],
   "source": [
    "lang2answer_openai(api_key = api_key, \n",
    "            table_name = \"chicago_crime\", \n",
    "            query = \"Show me cases that are type of robbery\",\n",
    "            verbose=True)"
   ]
  },
  {
   "cell_type": "code",
   "execution_count": 48,
   "id": "1dede211",
   "metadata": {},
   "outputs": [
    {
     "name": "stdout",
     "output_type": "stream",
     "text": [
      "SELECT district\n",
      "FROM chicago_crime\n",
      "WHERE arrest = TRUE AND year = 2024\n",
      "GROUP BY district\n",
      "ORDER BY COUNT(*) DESC\n",
      "LIMIT 1;\n"
     ]
    },
    {
     "data": {
      "text/plain": [
       "┌──────────┐\n",
       "│ district │\n",
       "│  int64   │\n",
       "├──────────┤\n",
       "│       11 │\n",
       "└──────────┘"
      ]
     },
     "execution_count": 48,
     "metadata": {},
     "output_type": "execute_result"
    }
   ],
   "source": [
    "lang2answer_openai(api_key = api_key, \n",
    "            table_name = \"chicago_crime\", \n",
    "            query = \"which district had the highest number of arrests in 2024?\",\n",
    "            verbose=True)"
   ]
  }
 ],
 "metadata": {
  "kernelspec": {
   "display_name": "python-3.11-dev",
   "language": "python",
   "name": "python3"
  },
  "language_info": {
   "codemirror_mode": {
    "name": "ipython",
    "version": 3
   },
   "file_extension": ".py",
   "mimetype": "text/x-python",
   "name": "python",
   "nbconvert_exporter": "python",
   "pygments_lexer": "ipython3",
   "version": "3.11.12"
  }
 },
 "nbformat": 4,
 "nbformat_minor": 5
}
